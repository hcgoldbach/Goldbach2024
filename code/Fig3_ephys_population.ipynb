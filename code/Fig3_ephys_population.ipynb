{
 "cells": [
  {
   "cell_type": "code",
   "execution_count": 1,
   "metadata": {
    "tags": []
   },
   "outputs": [],
   "source": [
    "%reload_ext autoreload\n",
    "%autoreload 2\n",
    "\n",
    "import matplotlib.pyplot as plt \n",
    "import seaborn as sns \n",
    "import pandas as pd \n",
    "import numpy as np \n",
    "import scipy.stats as ss\n",
    "from scipy.signal import find_peaks\n",
    "import pyabf\n",
    "from statsmodels.formula.api import ols\n",
    "import statsmodels.api as sm\n",
    "\n",
    "\n",
    "import os,sys\n",
    "\n",
    "sys.path.append('../src') \n",
    "#import wholeCell as wc"
   ]
  },
  {
   "cell_type": "code",
   "execution_count": 2,
   "metadata": {
    "tags": []
   },
   "outputs": [],
   "source": [
    "plt.rcParams[\"font.family\"] = \"arial\"\n",
    "plt.rcParams[\"font.size\"] = 6\n",
    "plt.rcParams['axes.linewidth'] = 0.5\n",
    "plt.rcParams['xtick.major.width'] = 0.25\n",
    "plt.rcParams['xtick.major.size'] = 2\n",
    "plt.rcParams['xtick.major.pad'] = 2\n",
    "\n",
    "plt.rcParams['ytick.major.width'] = 0.25\n",
    "plt.rcParams['ytick.major.size'] = 2\n",
    "plt.rcParams['ytick.major.pad'] = 2\n",
    "plt.rcParams['ytick.major.pad'] = 2\n",
    "\n",
    "plt.rcParams['axes.labelpad'] = 2"
   ]
  },
  {
   "cell_type": "markdown",
   "metadata": {},
   "source": [
    "## CIN EPSCs"
   ]
  },
  {
   "cell_type": "code",
   "execution_count": 3,
   "metadata": {
    "tags": []
   },
   "outputs": [],
   "source": [
    "ints = pd.read_excel('../data/Fig3/cinsAuto.xlsx')"
   ]
  },
  {
   "cell_type": "code",
   "execution_count": 4,
   "metadata": {
    "tags": []
   },
   "outputs": [],
   "source": [
    "ints['date'] = ints['file'].str.slice(1,7)"
   ]
  },
  {
   "cell_type": "markdown",
   "metadata": {},
   "source": [
    "### V1"
   ]
  },
  {
   "cell_type": "code",
   "execution_count": 5,
   "metadata": {
    "tags": []
   },
   "outputs": [
    {
     "data": {
      "image/png": "[encoded data removed]",
      "text/plain": [
       "<Figure size 120x135 with 1 Axes>"
      ]
     },
     "metadata": {},
     "output_type": "display_data"
    }
   ],
   "source": [
    "fig, ax = plt.subplots(figsize = (1.2,1.35))\n",
    "sns.pointplot(data = ints[(ints['genotype'] == 'CHAT')&(ints['sensArea'] == 'V1')], x = 'stimType', y = 'absEPSC', hue = 'file', order = ['590', '405'], palette = 'dark:k', legend = False, linewidth = 1, markersize = 3)\n",
    "plt.setp(ax.collections, alpha=.2) #for the markers\n",
    "plt.setp(ax.lines, alpha=.2) \n",
    "sns.pointplot(data = ints[(ints['genotype'] == 'CHAT')&(ints['sensArea'] == 'V1')], x = 'stimType', y = 'absEPSC', color = 'RoyalBlue', order = ['590', '405'], errorbar = ('se'), linewidth = 2, markersize = 4)\n",
    "\n",
    "ax.set_yscale('log')\n",
    "ax.set_ylim(0.2,5000)\n",
    "\n",
    "ax.set_ylabel('EPSC$^{-1}$ (pA)', fontsize = 6, labelpad = 0)\n",
    "ax.set_xticks([0,1])\n",
    "ax.set_xticklabels(['VIS', 'mPFC'], fontsize = 6)\n",
    "\n",
    "ax.set_yticks([1, 10, 100, 1000])\n",
    "ax.set_yticklabels([1, 10, 100, 1000], fontsize = 6)\n",
    "\n",
    "ax.text(0.2, 1000, '***', fontsize = 12)\n",
    "\n",
    "ax.set_xlabel(None)\n",
    "\n",
    "sns.despine()\n",
    "\n",
    "plt.tight_layout()\n",
    "plt.savefig('../figOutputs/Fig3_CINs_V1.pdf', dpi = 300, transparent = True, bbox_inches = 'tight')\n"
   ]
  },
  {
   "cell_type": "code",
   "execution_count": 6,
   "metadata": {
    "tags": []
   },
   "outputs": [
    {
     "data": {
      "text/plain": [
       "MannwhitneyuResult(statistic=191.0, pvalue=2.1361748059114528e-05)"
      ]
     },
     "execution_count": 6,
     "metadata": {},
     "output_type": "execute_result"
    }
   ],
   "source": [
    "ss.mannwhitneyu(ints[(ints['sensArea'] == 'V1')&(ints['stimType'] == 405)]['absEPSC'], ints[(ints['sensArea'] == 'V1')&(ints['stimType'] == 590)]['absEPSC'])"
   ]
  },
  {
   "cell_type": "code",
   "execution_count": 7,
   "metadata": {
    "tags": []
   },
   "outputs": [
    {
     "name": "stdout",
     "output_type": "stream",
     "text": [
      "5\n",
      "14\n",
      "184.03443545954568\n",
      "45.61028503366057\n",
      "\n",
      "9.107141630990165\n",
      "6.754372274017937\n"
     ]
    }
   ],
   "source": [
    "print(len(ints[(ints['sensArea'] == 'V1')&(ints['stimType'] == 405)]['date'].unique()))\n",
    "print(len(ints[(ints['sensArea'] == 'V1')&(ints['stimType'] == 405)]))\n",
    "print(ints[(ints['sensArea'] == 'V1')&(ints['stimType'] == 405)]['absEPSC'].mean())\n",
    "print(ints[(ints['sensArea'] == 'V1')&(ints['stimType'] == 405)]['absEPSC'].sem())\n",
    "print('')\n",
    "print(ints[(ints['sensArea'] == 'V1')&(ints['stimType'] == 590)]['absEPSC'].mean())\n",
    "print(ints[(ints['sensArea'] == 'V1')&(ints['stimType'] == 590)]['absEPSC'].sem())"
   ]
  },
  {
   "cell_type": "markdown",
   "metadata": {},
   "source": [
    "### S1"
   ]
  },
  {
   "cell_type": "code",
   "execution_count": 8,
   "metadata": {
    "tags": []
   },
   "outputs": [
    {
     "data": {
      "image/png": "[encoded data removed]",
      "text/plain": [
       "<Figure size 120x135 with 1 Axes>"
      ]
     },
     "metadata": {},
     "output_type": "display_data"
    }
   ],
   "source": [
    "fig, ax = plt.subplots(figsize = (1.2,1.35))\n",
    "sns.pointplot(data = ints[(ints['genotype'] == 'CHAT')&(ints['sensArea'] == 'S1')], x = 'stimType', y = 'absEPSC', hue = 'file', order = ['590', '405'],palette = 'dark:k', legend = False, linewidth = 1, markersize = 3)\n",
    "plt.setp(ax.collections, alpha=.2) #for the markers\n",
    "plt.setp(ax.lines, alpha=.2) \n",
    "sns.pointplot(data = ints[(ints['genotype'] == 'CHAT')&(ints['sensArea'] == 'S1')], x = 'stimType', y = 'absEPSC', order = ['590', '405'], color = 'RoyalBlue', errorbar = ('se'), linewidth = 2, markersize = 4)\n",
    "\n",
    "ax.set_yscale('log')\n",
    "ax.set_ylim(0.2,5000)\n",
    "\n",
    "ax.set_ylabel('EPSC$^{-1}$ (pA)', fontsize = 6, labelpad = 0)\n",
    "ax.set_xticks([0,1])\n",
    "ax.set_xticklabels(['SSp', 'mPFC'], fontsize = 6)\n",
    "\n",
    "ax.set_yticks([1, 10, 100, 1000])\n",
    "ax.set_yticklabels([1, 10, 100, 1000], fontsize = 6)\n",
    "ax.set_xlabel(None)\n",
    "\n",
    "ax.text(0.2, 1000, '***', fontsize = 12)\n",
    "\n",
    "sns.despine()\n",
    "\n",
    "plt.tight_layout()\n",
    "plt.savefig('../figOutputs/Fig3_CINs_S1.pdf', dpi = 300, transparent = True, bbox_inches = 'tight')\n"
   ]
  },
  {
   "cell_type": "code",
   "execution_count": 9,
   "metadata": {
    "tags": []
   },
   "outputs": [
    {
     "data": {
      "text/plain": [
       "MannwhitneyuResult(statistic=81.0, pvalue=0.00041229480206169127)"
      ]
     },
     "execution_count": 9,
     "metadata": {},
     "output_type": "execute_result"
    }
   ],
   "source": [
    "ss.mannwhitneyu(ints[(ints['sensArea'] == 'S1')&(ints['stimType'] == 405)]['absEPSC'], ints[(ints['sensArea'] == 'S1')&(ints['stimType'] == 590)]['absEPSC'])"
   ]
  },
  {
   "cell_type": "code",
   "execution_count": 10,
   "metadata": {
    "tags": []
   },
   "outputs": [
    {
     "name": "stdout",
     "output_type": "stream",
     "text": [
      "2\n",
      "9\n",
      "233.3499323527018\n",
      "90.51082290674738\n",
      "\n",
      "6.181720574696858\n",
      "2.9750626713850097\n"
     ]
    }
   ],
   "source": [
    "print(len(ints[(ints['sensArea'] == 'S1')&(ints['stimType'] == 405)]['date'].unique()))\n",
    "print(len(ints[(ints['sensArea'] == 'S1')&(ints['stimType'] == 405)]))\n",
    "print(ints[(ints['sensArea'] == 'S1')&(ints['stimType'] == 405)]['absEPSC'].mean())\n",
    "print(ints[(ints['sensArea'] == 'S1')&(ints['stimType'] == 405)]['absEPSC'].sem())\n",
    "print('')\n",
    "print(ints[(ints['sensArea'] == 'S1')&(ints['stimType'] == 590)]['absEPSC'].mean())\n",
    "print(ints[(ints['sensArea'] == 'S1')&(ints['stimType'] == 590)]['absEPSC'].sem())"
   ]
  },
  {
   "cell_type": "markdown",
   "metadata": {},
   "source": [
    "### A1"
   ]
  },
  {
   "cell_type": "code",
   "execution_count": 11,
   "metadata": {
    "tags": []
   },
   "outputs": [
    {
     "data": {
      "image/png": "[encoded data removed]",
      "text/plain": [
       "<Figure size 120x135 with 1 Axes>"
      ]
     },
     "metadata": {},
     "output_type": "display_data"
    }
   ],
   "source": [
    "fig, ax = plt.subplots(figsize = (1.2,1.35))\n",
    "sns.pointplot(data = ints[(ints['genotype'] == 'CHAT')&(ints['sensArea'] == 'A1')], x = 'stimType', y = 'absEPSC', hue = 'file', order = ['590', '405'], palette = 'dark:k', legend = False, linewidth = 1, markersize = 3)\n",
    "plt.setp(ax.collections, alpha=.2) #for the markers\n",
    "plt.setp(ax.lines, alpha=.2) \n",
    "sns.pointplot(data = ints[(ints['genotype'] == 'CHAT')&(ints['sensArea'] == 'A1')], x = 'stimType', y = 'absEPSC', order = ['590', '405'], color = 'RoyalBlue', errorbar = ('se'), linewidth = 2, markersize = 4)\n",
    "\n",
    "ax.set_yscale('log')\n",
    "ax.set_ylim(0.2,5000)\n",
    "\n",
    "ax.set_ylabel('EPSC$^{-1}$ (pA)', fontsize = 6, labelpad = 0)\n",
    "ax.set_xticks([0,1])\n",
    "ax.set_xticklabels(['AUD', 'mPFC'], fontsize = 6)\n",
    "\n",
    "ax.set_yticks([1, 10, 100, 1000])\n",
    "ax.set_yticklabels([1, 10, 100, 1000], fontsize = 6)\n",
    "ax.set_xlabel(None)\n",
    "\n",
    "ax.text(0.2, 1000, '***', fontsize = 12)\n",
    "\n",
    "sns.despine()\n",
    "\n",
    "plt.tight_layout()\n",
    "plt.savefig('../figOutputs/Fig3_CINs_A1.pdf', dpi = 300, transparent = True, bbox_inches = 'tight')\n"
   ]
  },
  {
   "cell_type": "code",
   "execution_count": 12,
   "metadata": {
    "tags": []
   },
   "outputs": [
    {
     "data": {
      "text/plain": [
       "MannwhitneyuResult(statistic=276.0, pvalue=6.397968641966111e-06)"
      ]
     },
     "execution_count": 12,
     "metadata": {},
     "output_type": "execute_result"
    }
   ],
   "source": [
    "ss.mannwhitneyu(ints[(ints['sensArea'] == 'A1')&(ints['stimType'] == 405)]['absEPSC'], ints[(ints['sensArea'] == 'A1')&(ints['stimType'] == 590)]['absEPSC'])"
   ]
  },
  {
   "cell_type": "code",
   "execution_count": 13,
   "metadata": {
    "tags": []
   },
   "outputs": [
    {
     "name": "stdout",
     "output_type": "stream",
     "text": [
      "3\n",
      "17\n",
      "190.02069128260894\n",
      "29.770293678385535\n",
      "\n",
      "20.13337950145497\n",
      "5.368599393899614\n"
     ]
    }
   ],
   "source": [
    "print(len(ints[(ints['sensArea'] == 'A1')&(ints['stimType'] == 405)]['date'].unique()))\n",
    "print(len(ints[(ints['sensArea'] == 'A1')&(ints['stimType'] == 405)]))\n",
    "print(ints[(ints['sensArea'] == 'A1')&(ints['stimType'] == 405)]['absEPSC'].mean())\n",
    "print(ints[(ints['sensArea'] == 'A1')&(ints['stimType'] == 405)]['absEPSC'].sem())\n",
    "print('')\n",
    "print(ints[(ints['sensArea'] == 'A1')&(ints['stimType'] == 590)]['absEPSC'].mean())\n",
    "print(ints[(ints['sensArea'] == 'A1')&(ints['stimType'] == 590)]['absEPSC'].sem())"
   ]
  },
  {
   "cell_type": "markdown",
   "metadata": {},
   "source": [
    "## MSN EPSCs"
   ]
  },
  {
   "cell_type": "code",
   "execution_count": 14,
   "metadata": {
    "tags": []
   },
   "outputs": [],
   "source": [
    "ints = pd.read_excel('../data/Fig3/msnsAuto.xlsx')\n",
    "ints['date'] = ints['file'].str.slice(1,7)"
   ]
  },
  {
   "cell_type": "markdown",
   "metadata": {},
   "source": [
    "### V1"
   ]
  },
  {
   "cell_type": "code",
   "execution_count": 15,
   "metadata": {
    "tags": []
   },
   "outputs": [
    {
     "data": {
      "image/png": "[encoded data removed]",
      "text/plain": [
       "<Figure size 120x135 with 1 Axes>"
      ]
     },
     "metadata": {},
     "output_type": "display_data"
    }
   ],
   "source": [
    "fig, ax = plt.subplots(figsize = (1.2,1.35))\n",
    "sns.pointplot(data = ints[(ints['cellType'] == 'MSN')&(ints['sensArea'] == 'V1')], x = 'stimType', y = 'absEPSC', order = ['590', '405'], hue = 'file', palette = 'dark:k', legend = False, linewidth = 1, markersize = 3)\n",
    "plt.setp(ax.collections, alpha=.2) #for the markers\n",
    "plt.setp(ax.lines, alpha=.2) \n",
    "sns.pointplot(data = ints[(ints['cellType'] == 'MSN')&(ints['sensArea'] == 'V1')], x = 'stimType', y = 'absEPSC', order = ['590', '405'], color = 'Orange', errorbar = ('se'), linewidth = 2, markersize = 4)\n",
    "\n",
    "ax.set_yscale('log')\n",
    "ax.set_ylim(0.2,5000)\n",
    "\n",
    "ax.set_ylabel('EPSC$^{-1}$ (pA)', fontsize = 6, labelpad = 0)\n",
    "ax.set_xticks([0,1])\n",
    "ax.set_xticklabels(['VIS', 'mPFC'], fontsize = 6)\n",
    "\n",
    "ax.set_yticks([1, 10, 100, 1000])\n",
    "ax.set_yticklabels([1, 10, 100, 1000], fontsize = 6)\n",
    "ax.set_xlabel(None)\n",
    "\n",
    "ax.text(0.4, 3000, 'n.s.', fontsize = 6)\n",
    "\n",
    "sns.despine()\n",
    "\n",
    "plt.tight_layout()\n",
    "plt.savefig('../figOutputs/Fig3_MSNs_V1_EPSC.pdf', dpi = 300, transparent = True, bbox_inches = 'tight')\n"
   ]
  },
  {
   "cell_type": "code",
   "execution_count": 16,
   "metadata": {
    "tags": []
   },
   "outputs": [
    {
     "data": {
      "text/plain": [
       "MannwhitneyuResult(statistic=90.0, pvalue=0.7976340690559742)"
      ]
     },
     "execution_count": 16,
     "metadata": {},
     "output_type": "execute_result"
    }
   ],
   "source": [
    "ss.mannwhitneyu(ints[(ints['sensArea'] == 'V1')&(ints['stimType'] == 405)]['absEPSC'], ints[(ints['sensArea'] == 'V1')&(ints['stimType'] == 590)]['absEPSC'])"
   ]
  },
  {
   "cell_type": "code",
   "execution_count": 17,
   "metadata": {
    "tags": []
   },
   "outputs": [
    {
     "name": "stdout",
     "output_type": "stream",
     "text": [
      "3\n",
      "13\n",
      "\n",
      "658.0656372217031\n",
      "142.49881465967854\n",
      "\n",
      "720.9006929030785\n",
      "186.65251150279897\n"
     ]
    }
   ],
   "source": [
    "print(len(ints[(ints['sensArea'] == 'V1')&(ints['stimType'] == 405)]['date'].unique()))\n",
    "print(len(ints[(ints['sensArea'] == 'V1')&(ints['stimType'] == 405)]))\n",
    "print(\"\")\n",
    "print(ints[(ints['sensArea'] == 'V1')&(ints['stimType'] == 405)]['absEPSC'].mean())\n",
    "print(ints[(ints['sensArea'] == 'V1')&(ints['stimType'] == 405)]['absEPSC'].sem())\n",
    "print('')\n",
    "print(ints[(ints['sensArea'] == 'V1')&(ints['stimType'] == 590)]['absEPSC'].mean())\n",
    "print(ints[(ints['sensArea'] == 'V1')&(ints['stimType'] == 590)]['absEPSC'].sem())\n",
    "\n"
   ]
  },
  {
   "cell_type": "markdown",
   "metadata": {},
   "source": [
    "### A1"
   ]
  },
  {
   "cell_type": "code",
   "execution_count": 18,
   "metadata": {
    "tags": []
   },
   "outputs": [
    {
     "data": {
      "image/png": "[encoded data removed]",
      "text/plain": [
       "<Figure size 120x135 with 1 Axes>"
      ]
     },
     "metadata": {},
     "output_type": "display_data"
    }
   ],
   "source": [
    "fig, ax = plt.subplots(figsize = (1.2,1.35))\n",
    "sns.pointplot(data = ints[(ints['cellType'] == 'MSN')&(ints['sensArea'] == 'A1')], x = 'stimType', y = 'absEPSC', order = ['590', '405'], hue = 'file', palette = 'dark:k', legend = False, linewidth = 1, markersize = 3)\n",
    "plt.setp(ax.collections, alpha=.2) #for the markers\n",
    "plt.setp(ax.lines, alpha=.2) \n",
    "sns.pointplot(data = ints[(ints['cellType'] == 'MSN')&(ints['sensArea'] == 'A1')], x = 'stimType', y = 'absEPSC', order = ['590', '405'], color = 'Orange', errorbar = ('se'), linewidth = 2, markersize = 4)\n",
    "\n",
    "ax.set_yscale('log')\n",
    "ax.set_ylim(0.2, 5000)\n",
    "\n",
    "ax.set_ylabel('EPSC$^{-1}$ (pA)', fontsize = 6, labelpad = 0)\n",
    "ax.set_xticks([0,1])\n",
    "ax.set_xticklabels(['AUD', 'mPFC'], fontsize = 6)\n",
    "\n",
    "ax.set_yticks([1, 10, 100, 1000])\n",
    "ax.set_yticklabels([1, 10, 100, 1000], fontsize = 6)\n",
    "ax.set_xlabel(None)\n",
    "\n",
    "ax.text(0.45, 3000, '*', fontsize = 12)\n",
    "\n",
    "sns.despine()\n",
    "\n",
    "plt.tight_layout()\n",
    "plt.savefig('../figOutputs/Fig3_MSNs_A1_EPSC.pdf', dpi = 300, transparent = True, bbox_inches = 'tight')\n"
   ]
  },
  {
   "cell_type": "code",
   "execution_count": 19,
   "metadata": {
    "tags": []
   },
   "outputs": [
    {
     "data": {
      "text/plain": [
       "MannwhitneyuResult(statistic=93.0, pvalue=0.03561636409984438)"
      ]
     },
     "execution_count": 19,
     "metadata": {},
     "output_type": "execute_result"
    }
   ],
   "source": [
    "ss.mannwhitneyu(ints[(ints['sensArea'] == 'A1')&(ints['stimType'] == 405)]['absEPSC'], ints[(ints['sensArea'] == 'A1')&(ints['stimType'] == 590)]['absEPSC'])"
   ]
  },
  {
   "cell_type": "code",
   "execution_count": 20,
   "metadata": {
    "tags": []
   },
   "outputs": [
    {
     "name": "stdout",
     "output_type": "stream",
     "text": [
      "3\n",
      "520.2976606108925\n",
      "126.51201229542838\n",
      "\n",
      "233.70222876288673\n",
      "65.64380076458262\n",
      "\n",
      "11\n"
     ]
    }
   ],
   "source": [
    "print(len(ints[(ints['sensArea'] == 'A1')&(ints['stimType'] == 405)]['date'].unique()))\n",
    "print(ints[(ints['sensArea'] == 'A1')&(ints['stimType'] == 405)]['absEPSC'].mean())\n",
    "print(ints[(ints['sensArea'] == 'A1')&(ints['stimType'] == 405)]['absEPSC'].sem())\n",
    "print('')\n",
    "print(ints[(ints['sensArea'] == 'A1')&(ints['stimType'] == 590)]['absEPSC'].mean())\n",
    "print(ints[(ints['sensArea'] == 'A1')&(ints['stimType'] == 590)]['absEPSC'].sem())\n",
    "print(\"\")\n",
    "print(len(ints[(ints['sensArea'] == 'A1')&(ints['stimType'] == 405)]))"
   ]
  },
  {
   "cell_type": "markdown",
   "metadata": {},
   "source": [
    "### S1"
   ]
  },
  {
   "cell_type": "code",
   "execution_count": 21,
   "metadata": {
    "tags": []
   },
   "outputs": [
    {
     "data": {
      "image/png": "[encoded data removed]",
      "text/plain": [
       "<Figure size 120x135 with 1 Axes>"
      ]
     },
     "metadata": {},
     "output_type": "display_data"
    }
   ],
   "source": [
    "fig, ax = plt.subplots(figsize = (1.2,1.35))\n",
    "sns.pointplot(data = ints[(ints['cellType'] == 'MSN')&(ints['sensArea'] == 'S1')], x = 'stimType', y = 'absEPSC', order = ['590', '405'], hue = 'file', palette = 'dark:k', legend = False, linewidth = 1, markersize = 3)\n",
    "plt.setp(ax.collections, alpha=.2) #for the markers\n",
    "plt.setp(ax.lines, alpha=.2) \n",
    "sns.pointplot(data = ints[(ints['cellType'] == 'MSN')&(ints['sensArea'] == 'S1')], x = 'stimType', y = 'absEPSC',order = ['590', '405'], color = 'Orange', errorbar = ('se'), linewidth = 2, markersize = 4)\n",
    "\n",
    "ax.set_yscale('log')\n",
    "ax.set_ylim(0.2,5000)\n",
    "\n",
    "ax.set_ylabel('EPSC$^{-1}$ (pA)', fontsize = 6, labelpad = 0)\n",
    "ax.set_xticks([0,1])\n",
    "ax.set_xticklabels(['SSp', 'mPFC'], fontsize = 6)\n",
    "\n",
    "ax.set_yticks([1, 10, 100, 1000])\n",
    "ax.set_yticklabels([1, 10, 100, 1000], fontsize = 6)\n",
    "ax.set_xlabel(None)\n",
    "\n",
    "ax.text(0.4, 3000, 'n.s.', fontsize = 6)\n",
    "\n",
    "sns.despine()\n",
    "\n",
    "plt.tight_layout()\n",
    "plt.savefig('../figOutputs/Fig3_MSNs_S1_EPSC.pdf', dpi = 300, transparent = True, bbox_inches = 'tight')\n"
   ]
  },
  {
   "cell_type": "code",
   "execution_count": 22,
   "metadata": {
    "tags": []
   },
   "outputs": [
    {
     "data": {
      "text/plain": [
       "MannwhitneyuResult(statistic=73.0, pvalue=0.430708328947102)"
      ]
     },
     "execution_count": 22,
     "metadata": {},
     "output_type": "execute_result"
    }
   ],
   "source": [
    "ss.mannwhitneyu(ints[(ints['sensArea'] == 'S1')&(ints['stimType'] == 405)]['absEPSC'], ints[(ints['sensArea'] == 'S1')&(ints['stimType'] == 590)]['absEPSC'])"
   ]
  },
  {
   "cell_type": "code",
   "execution_count": 23,
   "metadata": {
    "tags": []
   },
   "outputs": [
    {
     "name": "stdout",
     "output_type": "stream",
     "text": [
      "3\n",
      "592.282064481215\n",
      "258.0651778926368\n",
      "\n",
      "294.5593926256353\n",
      "82.20868411418502\n",
      "\n",
      "11\n"
     ]
    }
   ],
   "source": [
    "print(len(ints[(ints['sensArea'] == 'S1')&(ints['stimType'] == 405)]['date'].unique()))\n",
    "print(ints[(ints['sensArea'] == 'S1')&(ints['stimType'] == 405)]['absEPSC'].mean())\n",
    "print(ints[(ints['sensArea'] == 'S1')&(ints['stimType'] == 405)]['absEPSC'].sem())\n",
    "print('')\n",
    "print(ints[(ints['sensArea'] == 'S1')&(ints['stimType'] == 590)]['absEPSC'].mean())\n",
    "print(ints[(ints['sensArea'] == 'S1')&(ints['stimType'] == 590)]['absEPSC'].sem())\n",
    "print(\"\")\n",
    "print(len(ints[(ints['sensArea'] == 'S1')&(ints['stimType'] == 405)]))"
   ]
  },
  {
   "cell_type": "markdown",
   "metadata": {},
   "source": [
    "### EPSC Delays"
   ]
  },
  {
   "cell_type": "code",
   "execution_count": 24,
   "metadata": {
    "tags": []
   },
   "outputs": [
    {
     "data": {
      "image/png": "[encoded data removed]",
      "text/plain": [
       "<Figure size 120x180 with 1 Axes>"
      ]
     },
     "metadata": {},
     "output_type": "display_data"
    }
   ],
   "source": [
    "fig, ax = plt.subplots(figsize = (0.4, 0.6), dpi =  300)\n",
    "temp = ints[(ints['cellType'] == 'MSN')&(ints['sensArea'] == 'V1')]\n",
    "sns.barplot(data = temp, x = 'stimType', y = 'epscDelay', hue = 'stimType', order = [590, 405], legend = False, errorbar = (\"se\"), palette = ['0.5','orange'], alpha = 0.6)\n",
    "\n",
    "ax.set_xticks([0,1])\n",
    "ax.set_xticklabels(['VIS', 'PFC'], fontsize =5.5)\n",
    "ax.set_xlabel(None)\n",
    "ax.set_ylabel('Time (ms)', fontsize = 6, labelpad = 0.5)\n",
    "ax.set_yticks([0,5,10])\n",
    "ax.set_yticklabels([0,5,10], fontsize =6)\n",
    "\n",
    "sns.despine()\n",
    "plt.savefig('../figOutputs/Fig3_MSN_V1_delays.pdf', bbox_inches = 'tight', dpi = 300, transparent = True)"
   ]
  },
  {
   "cell_type": "code",
   "execution_count": 25,
   "metadata": {
    "tags": []
   },
   "outputs": [
    {
     "name": "stdout",
     "output_type": "stream",
     "text": [
      "5.323076923076924\n",
      "0.5274702380902697\n",
      "\n",
      "5.200000000000001\n",
      "0.4657500154837109\n"
     ]
    }
   ],
   "source": [
    "print(temp[temp['stimType'] == 405]['epscDelay'].mean())\n",
    "print(temp[temp['stimType'] == 405]['epscDelay'].sem())\n",
    "print ('')\n",
    "print(temp[temp['stimType'] == 590]['epscDelay'].mean())\n",
    "print(temp[temp['stimType'] == 590]['epscDelay'].sem())"
   ]
  },
  {
   "cell_type": "code",
   "execution_count": 26,
   "metadata": {
    "tags": []
   },
   "outputs": [
    {
     "data": {
      "image/png": "[encoded data removed]",
      "text/plain": [
       "<Figure size 120x180 with 1 Axes>"
      ]
     },
     "metadata": {},
     "output_type": "display_data"
    }
   ],
   "source": [
    "fig, ax = plt.subplots(figsize = (0.4, 0.6), dpi =  300)\n",
    "temp = ints[(ints['cellType'] == 'MSN')&(ints['sensArea'] == 'S1')&(ints['epscDelay'] > 0)]\n",
    "sns.barplot(data = temp, x = 'stimType', y = 'epscDelay', hue = 'stimType', order = [590, 405], legend = False, errorbar = (\"se\"), palette = ['0.5','orange'], alpha = 0.6)\n",
    "\n",
    "ax.set_xticks([0,1])\n",
    "ax.set_xticklabels(['SSp', 'PFC'], fontsize =5.5)\n",
    "ax.set_xlabel(None)\n",
    "ax.set_ylabel('Time (ms)', fontsize = 6, labelpad = 0.5)\n",
    "ax.set_yticks([0,5,10])\n",
    "ax.set_yticklabels([0,5,10], fontsize =6)\n",
    "\n",
    "sns.despine()\n",
    "plt.savefig('../figOutputs/Fig3_MSN_S1_delays.pdf', bbox_inches = 'tight', dpi = 300, transparent = True)"
   ]
  },
  {
   "cell_type": "code",
   "execution_count": 27,
   "metadata": {
    "tags": []
   },
   "outputs": [
    {
     "name": "stdout",
     "output_type": "stream",
     "text": [
      "5.000000000000001\n",
      "0.35402448126271335\n",
      "\n",
      "5.236363636363635\n",
      "0.5629908326837573\n"
     ]
    }
   ],
   "source": [
    "print(temp[temp['stimType'] == 405]['epscDelay'].mean())\n",
    "print(temp[temp['stimType'] == 405]['epscDelay'].sem())\n",
    "print ('')\n",
    "print(temp[temp['stimType'] == 590]['epscDelay'].mean())\n",
    "print(temp[temp['stimType'] == 590]['epscDelay'].sem())"
   ]
  },
  {
   "cell_type": "code",
   "execution_count": 28,
   "metadata": {
    "tags": []
   },
   "outputs": [
    {
     "data": {
      "image/png": "[encoded data removed]",
      "text/plain": [
       "<Figure size 120x180 with 1 Axes>"
      ]
     },
     "metadata": {},
     "output_type": "display_data"
    }
   ],
   "source": [
    "fig, ax = plt.subplots(figsize = (0.4, 0.6), dpi =  300)\n",
    "temp = ints[(ints['cellType'] == 'MSN')&(ints['sensArea'] == 'A1')&(ints['epscDelay'] > 0)]\n",
    "sns.barplot(data = temp, x = 'stimType', y = 'epscDelay', order = [590, 405], hue = 'stimType', legend = False, errorbar = (\"se\"), palette = ['0.5','orange'], alpha = 0.6)\n",
    "\n",
    "ax.set_xticks([0,1])\n",
    "ax.set_xticklabels(['AUD', 'PFC'], fontsize =5)\n",
    "ax.set_xlabel(None)\n",
    "ax.set_ylabel('Time (ms)', fontsize = 6, labelpad = 0.5)\n",
    "ax.set_yticks([0,5,10])\n",
    "ax.set_yticklabels([0,5,10], fontsize =6)\n",
    "\n",
    "sns.despine()\n",
    "plt.savefig('../figOutputs/Fig3_MSN_A1_delays.pdf', bbox_inches = 'tight', dpi = 300, transparent = True)"
   ]
  },
  {
   "cell_type": "code",
   "execution_count": 29,
   "metadata": {
    "tags": []
   },
   "outputs": [
    {
     "name": "stdout",
     "output_type": "stream",
     "text": [
      "5.290909090909091\n",
      "0.3240242823264795\n",
      "\n",
      "4.963636363636364\n",
      "0.23482013514127917\n"
     ]
    }
   ],
   "source": [
    "print(temp[temp['stimType'] == 405]['epscDelay'].mean())\n",
    "print(temp[temp['stimType'] == 405]['epscDelay'].sem())\n",
    "print ('')\n",
    "print(temp[temp['stimType'] == 590]['epscDelay'].mean())\n",
    "print(temp[temp['stimType'] == 590]['epscDelay'].sem())"
   ]
  },
  {
   "cell_type": "code",
   "execution_count": 30,
   "metadata": {
    "tags": []
   },
   "outputs": [],
   "source": [
    "ints = pd.read_excel('../data/Fig3/cinsAuto.xlsx')"
   ]
  },
  {
   "cell_type": "code",
   "execution_count": 31,
   "metadata": {
    "tags": []
   },
   "outputs": [
    {
     "data": {
      "image/png": "[encoded data removed]",
      "text/plain": [
       "<Figure size 60x180 with 1 Axes>"
      ]
     },
     "metadata": {},
     "output_type": "display_data"
    }
   ],
   "source": [
    "fig, ax = plt.subplots(figsize = (0.2, 0.6), dpi =  300)\n",
    "temp = ints[(ints['cellType'] == 'CIN')&(ints['sensArea'] == 'V1')&(ints['stimType'] == 405)&(ints['epscDelay'] > 0)]\n",
    "sns.barplot(data = temp, x = 'stimType', y = 'epscDelay', errorbar = (\"se\"), color = '0.5', alpha = 0.6)\n",
    "\n",
    "ax.set_xticks([0])\n",
    "ax.set_xticklabels(['PFC'],fontsize =6)\n",
    "ax.set_xlabel(None)\n",
    "ax.set_ylabel('Time (ms)', fontsize = 6, labelpad = 0.5)\n",
    "ax.set_yticks([0,5,10])\n",
    "ax.set_yticklabels([0,5,10], fontsize =6)\n",
    "\n",
    "sns.despine()\n",
    "plt.savefig('../figOutputs/Fig3_CIN_V1_delays.pdf', bbox_inches = 'tight', dpi = 300, transparent = True)"
   ]
  },
  {
   "cell_type": "code",
   "execution_count": 32,
   "metadata": {
    "tags": []
   },
   "outputs": [
    {
     "name": "stdout",
     "output_type": "stream",
     "text": [
      "5.200000000000001\n",
      "0.46849458853564085\n"
     ]
    }
   ],
   "source": [
    "print(temp[temp['stimType'] == 405]['epscDelay'].mean())\n",
    "print(temp[temp['stimType'] == 405]['epscDelay'].sem())"
   ]
  },
  {
   "cell_type": "code",
   "execution_count": 33,
   "metadata": {
    "tags": []
   },
   "outputs": [
    {
     "data": {
      "image/png": "[encoded data removed]",
      "text/plain": [
       "<Figure size 60x180 with 1 Axes>"
      ]
     },
     "metadata": {},
     "output_type": "display_data"
    }
   ],
   "source": [
    "fig, ax = plt.subplots(figsize = (0.2, 0.6), dpi = 300)\n",
    "temp = ints[(ints['cellType'] == 'CIN')&(ints['sensArea'] == 'S1')&(ints['stimType'] == 405)&(ints['epscDelay'] > 0)]\n",
    "sns.barplot(data = temp, x = 'stimType', y = 'epscDelay', errorbar = (\"se\"), color = '0.5', alpha = 0.6)\n",
    "\n",
    "ax.set_xticks([0])\n",
    "ax.set_xticklabels(['PFC'], fontsize = 6)\n",
    "ax.set_xlabel(None)\n",
    "ax.set_ylabel('Time (ms)', fontsize = 6, labelpad = 0.5)\n",
    "ax.set_yticks([0,5,10])\n",
    "ax.set_yticklabels([0,5,10], fontsize = 6)\n",
    "\n",
    "sns.despine()\n",
    "\n",
    "plt.savefig('../figOutputs/Fig3_CIN_S1_delays.pdf', bbox_inches = 'tight', dpi = 300, transparent = True)"
   ]
  },
  {
   "cell_type": "code",
   "execution_count": 34,
   "metadata": {
    "tags": []
   },
   "outputs": [
    {
     "name": "stdout",
     "output_type": "stream",
     "text": [
      "4.333333333333333\n",
      "0.20275875100994067\n"
     ]
    }
   ],
   "source": [
    "print(temp[temp['stimType'] == 405]['epscDelay'].mean())\n",
    "print(temp[temp['stimType'] == 405]['epscDelay'].sem())"
   ]
  },
  {
   "cell_type": "code",
   "execution_count": 35,
   "metadata": {
    "tags": []
   },
   "outputs": [
    {
     "data": {
      "image/png": "[encoded data removed]",
      "text/plain": [
       "<Figure size 60x180 with 1 Axes>"
      ]
     },
     "metadata": {},
     "output_type": "display_data"
    }
   ],
   "source": [
    "fig, ax = plt.subplots(figsize = (0.2, 0.6), dpi = 300)\n",
    "temp = ints[(ints['cellType'] == 'CIN')&(ints['sensArea'] == 'A1')&(ints['stimType'] == 405)&(ints['epscDelay'] > 0)]\n",
    "sns.barplot(data = temp, x = 'stimType', y = 'epscDelay', errorbar = (\"se\"), color = '0.5', alpha = 0.6)\n",
    "\n",
    "ax.set_xticks([0])\n",
    "ax.set_xticklabels(['PFC'], fontsize =6)\n",
    "ax.set_xlabel(None)\n",
    "ax.set_ylabel('Time (ms)', fontsize = 6, labelpad = 0.5)\n",
    "ax.set_yticks([0,5,10])\n",
    "ax.set_yticklabels([0,5,10], fontsize = 6)\n",
    "\n",
    "sns.despine()\n",
    "plt.savefig('../figOutputs/Fig3_CIN_A1_delays.pdf', bbox_inches = 'tight', dpi = 300, transparent = True)"
   ]
  },
  {
   "cell_type": "code",
   "execution_count": 36,
   "metadata": {
    "tags": []
   },
   "outputs": [
    {
     "name": "stdout",
     "output_type": "stream",
     "text": [
      "5.775\n",
      "0.34731109973624513\n"
     ]
    }
   ],
   "source": [
    "temp =  ints[(ints['cellType'] == 'CIN')&(ints['sensArea'] == 'A1')&(ints['epscDelay'] > 0)]\n",
    "\n",
    "print(temp[temp['stimType'] == 405]['epscDelay'].mean())\n",
    "print(temp[temp['stimType'] == 405]['epscDelay'].sem())"
   ]
  },
  {
   "cell_type": "code",
   "execution_count": null,
   "metadata": {},
   "outputs": [],
   "source": []
  },
  {
   "cell_type": "code",
   "execution_count": null,
   "metadata": {},
   "outputs": [],
   "source": []
  },
  {
   "cell_type": "code",
   "execution_count": null,
   "metadata": {},
   "outputs": [],
   "source": []
  },
  {
   "cell_type": "code",
   "execution_count": null,
   "metadata": {},
   "outputs": [],
   "source": []
  },
  {
   "cell_type": "code",
   "execution_count": null,
   "metadata": {},
   "outputs": [],
   "source": []
  },
  {
   "cell_type": "code",
   "execution_count": null,
   "metadata": {},
   "outputs": [],
   "source": []
  },
  {
   "cell_type": "code",
   "execution_count": null,
   "metadata": {},
   "outputs": [],
   "source": []
  },
  {
   "cell_type": "code",
   "execution_count": null,
   "metadata": {},
   "outputs": [],
   "source": []
  }
 ],
 "metadata": {
  "kernelspec": {
   "display_name": "Python 3 (ipykernel)",
   "language": "python",
   "name": "python3"
  },
  "language_info": {
   "codemirror_mode": {
    "name": "ipython",
    "version": 3
   },
   "file_extension": ".py",
   "mimetype": "text/x-python",
   "name": "python",
   "nbconvert_exporter": "python",
   "pygments_lexer": "ipython3",
   "version": "3.11.5"
  }
 },
 "nbformat": 4,
 "nbformat_minor": 4
}
