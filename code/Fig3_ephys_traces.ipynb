{
 "cells": [
  {
   "cell_type": "code",
   "execution_count": 1,
   "metadata": {},
   "outputs": [],
   "source": [
    "import matplotlib.pyplot as plt #matlab plotting packing\n",
    "import seaborn as sns #fancier plotting package\n",
    "import pandas as pd #dataframe handler\n",
    "import numpy as np #math \n",
    "import pyabf #pClamp package\n",
    "from scipy.signal import butter, lfilter\n"
   ]
  },
  {
   "cell_type": "code",
   "execution_count": 2,
   "metadata": {
    "tags": []
   },
   "outputs": [],
   "source": [
    "plt.rcParams[\"font.family\"] = \"arial\"\n",
    "plt.rcParams[\"font.size\"] = 6\n",
    "plt.rcParams['axes.linewidth'] = 0.5\n",
    "plt.rcParams['xtick.major.width'] = 0.25\n",
    "plt.rcParams['xtick.major.size'] = 2\n",
    "plt.rcParams['xtick.major.pad'] = 2\n",
    "\n",
    "plt.rcParams['ytick.major.width'] = 0.25\n",
    "plt.rcParams['ytick.major.size'] = 2\n",
    "plt.rcParams['ytick.major.pad'] = 2\n",
    "plt.rcParams['ytick.major.pad'] = 2\n",
    "\n",
    "plt.rcParams['axes.labelpad'] = 2"
   ]
  },
  {
   "cell_type": "code",
   "execution_count": 3,
   "metadata": {
    "tags": []
   },
   "outputs": [],
   "source": [
    "def butter_lowpass(cutoff, fs, order=4):\n",
    "    return butter(order, cutoff, fs=fs, btype='low', analog=False)\n",
    "\n",
    "def butter_lowpass_filter(data, cutoff, fs, order=4):\n",
    "    b, a = butter_lowpass(cutoff, fs, order=order)\n",
    "    y = lfilter(b, a, data)\n",
    "    return y"
   ]
  },
  {
   "cell_type": "code",
   "execution_count": 4,
   "metadata": {
    "tags": []
   },
   "outputs": [],
   "source": [
    "def find_stims(abf, chan):\n",
    "    stim_ons = []\n",
    "    stim_offs = [] \n",
    "    stim_durs = []\n",
    "    for i in abf.sweepList:\n",
    "        abf.setSweep(i, channel = chan) \n",
    "        pulse = abf.sweepY[abf.sweepY > 5]\n",
    "        stim_durs.append(len(pulse))\n",
    "        stim_on = ((abf.sweepY > 4).argmax() if (abf.sweepY > 4).any() else -1)\n",
    "        stim_offs.append((((abf.sweepY[stim_on:] < 4).argmax() if (abf.sweepY[stim_on:] < 4).any() else -1)+stim_on))\n",
    "        stim_ons.append(stim_on)\n",
    "    return stim_ons, stim_offs, stim_durs\n"
   ]
  },
  {
   "cell_type": "code",
   "execution_count": 5,
   "metadata": {},
   "outputs": [],
   "source": [
    "def extractTraces(eS, eE, iS, iE): \n",
    "    PL_EPSC = [] #create empty list\n",
    "    PL_EPSC_max = [] #create empty list \n",
    "    for i in np.arange(eS,eE): #for sweep in this range, \n",
    "        new.setSweep(i, channel = 0) #import sweep \n",
    "        PL_EPSC.append(butter_lowpass_filter((new.sweepY[on405[0]-1000:off405[0]+1000]-np.mean(new.sweepY[5500:6500])), 100, 5000)) #add chunk of that sweep to empty list \n",
    "        PL_EPSC_max.append(np.min(new.sweepY[on405[0]:off405[0]+300]-np.mean(new.sweepY[5500:6500])))  #add the peak value of that sweep to other empty list \n",
    "   \n",
    "    V1_EPSC = [] \n",
    "    V1_EPSC_max = [] \n",
    "    for i in np.arange(eS,eE):\n",
    "        new.setSweep(i, channel = 0)\n",
    "        V1_EPSC.append(butter_lowpass_filter((new.sweepY[on590[0]-1000:off590[0]+1000]-np.mean(new.sweepY[81000:82000])), 100, 5000))\n",
    "        V1_EPSC_max.append(np.min(new.sweepY[on590[0]:off590[0]+300]-np.mean(new.sweepY[81000:82000])))\n",
    "    \n",
    "    return PL_EPSC, V1_EPSC"
   ]
  },
  {
   "cell_type": "code",
   "execution_count": 6,
   "metadata": {},
   "outputs": [],
   "source": [
    "path = ('../data/Fig3/CIN_A1.abf') #set path to project data folder\n",
    "\n",
    "new = pyabf.ABF(path) # import pClamp file \n",
    "\n",
    "on405, off405, dur405 = find_stims(new, chan = 1) #find on time, off time, and duration of each 405 pulse \n",
    "on590, off590, dur590 = find_stims(new, chan = 2) #find on time, off time, and duration of each 590 pulse "
   ]
  },
  {
   "cell_type": "code",
   "execution_count": 7,
   "metadata": {
    "tags": []
   },
   "outputs": [],
   "source": [
    "PL_EPSC, V1_EPSC = extractTraces(0,8,0,8)\n",
    "\n",
    "mPLe = pd.DataFrame(PL_EPSC).melt()\n",
    "mV1e = pd.DataFrame(V1_EPSC).melt()"
   ]
  },
  {
   "cell_type": "code",
   "execution_count": 8,
   "metadata": {},
   "outputs": [
    {
     "data": {
      "image/png": "[encoded data removed]",
      "text/plain": [
       "<Figure size 225x525 with 2 Axes>"
      ]
     },
     "metadata": {},
     "output_type": "display_data"
    }
   ],
   "source": [
    "fig, ax = plt.subplots(1,2, figsize = (0.75,1.75), sharey = True, sharex = True, dpi = 300)\n",
    "\n",
    "sns.lineplot(ax = ax[0], data = mV1e, x = 'variable', y = 'value', n_boot= 1000, errorbar = ('se'), color = 'RoyalBlue', lw = 0.75)\n",
    "sns.lineplot(ax = ax[1], data = mPLe, x = 'variable', y = 'value', n_boot= 1000, errorbar = ('se'), color = 'k', lw =0.75)\n",
    "\n",
    "\n",
    "plt.xlim(980,1400)\n",
    "plt.ylim(-400,100)\n",
    "\n",
    "ax[0].tick_params(         \n",
    "    which='both',      \n",
    "    bottom=False,   \n",
    "    left=False,\n",
    "    top=False,        \n",
    "    labelleft=False, \n",
    "    labelbottom = False)\n",
    "\n",
    "ax[1].tick_params(         \n",
    "    which='both',      \n",
    "    bottom=False,   \n",
    "    left=False,\n",
    "    top=False,        \n",
    "    labelleft=False, \n",
    "    labelbottom = False)\n",
    "\n",
    "sns.despine(ax = ax[0], top = True, bottom = True, left = True, right = True)\n",
    "sns.despine(ax = ax[1], top = True, bottom = True, left = True, right = True)\n",
    "#x1, y1 = [1200, 1200], [-250, -150]\n",
    "#x2, y2 = [1200, 1250], [-250, -250]\n",
    "#plt.plot(x1, y1, x2, y2, color = 'k', lw = 1)\n",
    "\n",
    "#plt.text(1065, -250, '100 pA', fontsize = 6, rotation = 90)\n",
    "#plt.text(1150, -280, '50 ms', fontsize = 6)\n",
    "x3, y3 = [1000, 1010], [35, 35]\n",
    "ax[0].plot(x3, y3, color = 'royalblue', lw = 3)\n",
    "x1, y1 = [1000, 1000], [30, 40]\n",
    "ax[1].plot(x1, y1, color = 'k', lw = 0.75)\n",
    "\n",
    "ax[0].set_ylabel(None)\n",
    "ax[0].set_xlabel(None)\n",
    "ax[1].set_xlabel(None)\n",
    "\n",
    "plt.savefig('../figOutputs/Fig3_A1_CIN_trace.pdf', dpi = 300, bbox_inches = 'tight', transparent = True)"
   ]
  },
  {
   "cell_type": "code",
   "execution_count": 9,
   "metadata": {},
   "outputs": [],
   "source": [
    "path = ('../data/Fig3/CIN_V1.abf') #set path to project data folder\n",
    "\n",
    "new = pyabf.ABF(path) # import pClamp file \n",
    "\n",
    "on405, off405, dur405 = find_stims(new, chan = 1) #find on time, off time, and duration of each 405 pulse \n",
    "on590, off590, dur590 = find_stims(new, chan = 2) #find on time, off time, and duration of each 590 pulse "
   ]
  },
  {
   "cell_type": "code",
   "execution_count": 10,
   "metadata": {
    "tags": []
   },
   "outputs": [],
   "source": [
    "PL_EPSC, V1_EPSC,  = extractTraces(5,9,10,18)\n",
    "\n",
    "mPLe = pd.DataFrame(PL_EPSC).melt()\n",
    "mV1e = pd.DataFrame(V1_EPSC).melt()"
   ]
  },
  {
   "cell_type": "code",
   "execution_count": 11,
   "metadata": {
    "tags": []
   },
   "outputs": [
    {
     "data": {
      "image/png": "[encoded data removed]",
      "text/plain": [
       "<Figure size 225x525 with 2 Axes>"
      ]
     },
     "metadata": {},
     "output_type": "display_data"
    }
   ],
   "source": [
    "fig, ax = plt.subplots(1,2, figsize = (0.75,1.75), sharey = True, sharex = True, dpi = 300)\n",
    "\n",
    "sns.lineplot(ax = ax[0], data = mV1e, x = 'variable', y = 'value', n_boot= 1000, errorbar = ('se'), color = 'RoyalBlue', lw = 0.75)\n",
    "sns.lineplot(ax = ax[1], data = mPLe, x = 'variable', y = 'value', n_boot= 1000, errorbar = ('se'), color = 'k', lw =0.75)\n",
    "\n",
    "\n",
    "plt.xlim(980,1400)\n",
    "plt.ylim(-400,100)\n",
    "\n",
    "ax[0].tick_params(         \n",
    "    which='both',      \n",
    "    bottom=False,   \n",
    "    left=False,\n",
    "    top=False,        \n",
    "    labelleft=False, \n",
    "    labelbottom = False)\n",
    "\n",
    "ax[1].tick_params(         \n",
    "    which='both',      \n",
    "    bottom=False,   \n",
    "    left=False,\n",
    "    top=False,        \n",
    "    labelleft=False, \n",
    "    labelbottom = False)\n",
    "\n",
    "sns.despine(ax = ax[0], top = True, bottom = True, left = True, right = True)\n",
    "sns.despine(ax = ax[1], top = True, bottom = True, left = True, right = True)\n",
    "#x1, y1 = [1200, 1200], [-250, -150]\n",
    "#x2, y2 = [1200, 1250], [-250, -250]\n",
    "#plt.plot(x1, y1, x2, y2, color = 'k', lw = 1)\n",
    "\n",
    "#plt.text(1065, -250, '100 pA', fontsize = 6, rotation = 90)\n",
    "#plt.text(1150, -280, '50 ms', fontsize = 6)\n",
    "x3, y3 = [1000, 1010], [35, 35]\n",
    "ax[0].plot(x3, y3, color = 'royalblue', lw = 3)\n",
    "x1, y1 = [1000, 1000], [30, 40]\n",
    "ax[1].plot(x1, y1, color = 'k', lw = 0.75)\n",
    "\n",
    "ax[0].set_ylabel(None)\n",
    "ax[0].set_xlabel(None)\n",
    "ax[1].set_xlabel(None)\n",
    "\n",
    "plt.savefig('../figOutputs/Fig3_V1_CIN_trace.pdf', dpi = 300, bbox_inches = 'tight', transparent = True)"
   ]
  },
  {
   "cell_type": "code",
   "execution_count": 12,
   "metadata": {
    "tags": []
   },
   "outputs": [],
   "source": [
    "path = ('../data/Fig3/CIN_S1.abf') #set path to project data folder\n",
    "\n",
    "new = pyabf.ABF(path) # import pClamp file \n",
    "\n",
    "on405, off405, dur405 = find_stims(new, chan = 1) #find on time, off time, and duration of each 405 pulse \n",
    "on590, off590, dur590 = find_stims(new, chan = 2) #find on time, off time, and duration of each 590 pulse "
   ]
  },
  {
   "cell_type": "code",
   "execution_count": 13,
   "metadata": {
    "tags": []
   },
   "outputs": [],
   "source": [
    "PL_EPSC, V1_EPSC, = extractTraces(0,15,17,30)\n",
    "\n",
    "mPLe = pd.DataFrame(PL_EPSC).melt()\n",
    "mV1e = pd.DataFrame(V1_EPSC).melt()"
   ]
  },
  {
   "cell_type": "code",
   "execution_count": 14,
   "metadata": {
    "tags": []
   },
   "outputs": [
    {
     "data": {
      "image/png": "[encoded data removed]",
      "text/plain": [
       "<Figure size 225x525 with 2 Axes>"
      ]
     },
     "metadata": {},
     "output_type": "display_data"
    }
   ],
   "source": [
    "fig, ax = plt.subplots(1,2, figsize = (0.75,1.75), sharey = True, sharex = True, dpi = 300)\n",
    "\n",
    "sns.lineplot(ax = ax[0], data = mV1e, x = 'variable', y = 'value', n_boot= 1000, errorbar = ('se'), color = 'RoyalBlue', lw = 0.75)\n",
    "sns.lineplot(ax = ax[1], data = mPLe, x = 'variable', y = 'value', n_boot= 1000, errorbar = ('se'), color = 'k', lw =0.75)\n",
    "\n",
    "\n",
    "plt.xlim(980,1400)\n",
    "plt.ylim(-400,100)\n",
    "\n",
    "ax[0].tick_params(         \n",
    "    which='both',      \n",
    "    bottom=False,   \n",
    "    left=False,\n",
    "    top=False,        \n",
    "    labelleft=False, \n",
    "    labelbottom = False)\n",
    "\n",
    "ax[1].tick_params(         \n",
    "    which='both',      \n",
    "    bottom=False,   \n",
    "    left=False,\n",
    "    top=False,        \n",
    "    labelleft=False, \n",
    "    labelbottom = False)\n",
    "\n",
    "sns.despine(ax = ax[0], top = True, bottom = True, left = True, right = True)\n",
    "sns.despine(ax = ax[1], top = True, bottom = True, left = True, right = True)\n",
    "x1, y1 = [1300, 1300], [-250, -150]\n",
    "x2, y2 = [1300, 1400], [-250, -250]\n",
    "plt.plot(x1, y1, x2, y2, color = 'k', lw = 1)\n",
    "\n",
    "plt.text(1150, -250, '100 pA', fontsize = 6, rotation = 90)\n",
    "plt.text(1200, -280, '100 ms', fontsize = 6)\n",
    "x3, y3 = [1000, 1010], [35, 35]\n",
    "ax[0].plot(x3, y3, color = 'royalblue', lw = 3)\n",
    "x1, y1 = [1000, 1000], [30, 40]\n",
    "ax[1].plot(x1, y1, color = 'k', lw = 0.75)\n",
    "\n",
    "ax[0].set_ylabel(None)\n",
    "ax[0].set_xlabel(None)\n",
    "ax[1].set_xlabel(None)\n",
    "\n",
    "plt.savefig('../figOutputs/Fig3_S1_CIN_trace.pdf', dpi = 300, bbox_inches = 'tight', transparent = True)"
   ]
  },
  {
   "cell_type": "code",
   "execution_count": 15,
   "metadata": {
    "tags": []
   },
   "outputs": [],
   "source": [
    "path = ('../data/Fig3/MSN_V1.abf') #set path to project data folder\n",
    "\n",
    "new = pyabf.ABF(path) # import pClamp file \n",
    "\n",
    "on405, off405, dur405 = find_stims(new, chan = 1) #find on time, off time, and duration of each 405 pulse \n",
    "on590, off590, dur590 = find_stims(new, chan = 2) #find on time, off time, and duration of each 590 pulse "
   ]
  },
  {
   "cell_type": "code",
   "execution_count": 16,
   "metadata": {
    "tags": []
   },
   "outputs": [],
   "source": [
    "PL_EPSC, V1_EPSC,= extractTraces(0,10,12,21)\n",
    "\n",
    "mPLe = pd.DataFrame(PL_EPSC).melt()\n",
    "mV1e = pd.DataFrame(V1_EPSC).melt()"
   ]
  },
  {
   "cell_type": "code",
   "execution_count": 17,
   "metadata": {
    "tags": []
   },
   "outputs": [
    {
     "data": {
      "image/png": "[encoded data removed]",
      "text/plain": [
       "<Figure size 225x525 with 2 Axes>"
      ]
     },
     "metadata": {},
     "output_type": "display_data"
    }
   ],
   "source": [
    "fig, ax = plt.subplots(1,2, figsize = (0.75,1.75), sharey = True, sharex = True, dpi = 300)\n",
    "\n",
    "sns.lineplot(ax = ax[0], data = mV1e, x = 'variable', y = 'value', n_boot= 1000, errorbar = ('se'), color = 'orange', lw = 0.75)\n",
    "sns.lineplot(ax = ax[1], data = mPLe, x = 'variable', y = 'value', n_boot= 1000, errorbar = ('se'), color = 'k', lw =0.75)\n",
    "\n",
    "\n",
    "plt.xlim(980,1400)\n",
    "plt.ylim(-400,100)\n",
    "\n",
    "ax[0].tick_params(         \n",
    "    which='both',      \n",
    "    bottom=False,   \n",
    "    left=False,\n",
    "    top=False,        \n",
    "    labelleft=False, \n",
    "    labelbottom = False)\n",
    "\n",
    "ax[1].tick_params(         \n",
    "    which='both',      \n",
    "    bottom=False,   \n",
    "    left=False,\n",
    "    top=False,        \n",
    "    labelleft=False, \n",
    "    labelbottom = False)\n",
    "\n",
    "sns.despine(ax = ax[0], top = True, bottom = True, left = True, right = True)\n",
    "sns.despine(ax = ax[1], top = True, bottom = True, left = True, right = True)\n",
    "#x1, y1 = [1200, 1200], [-250, -150]\n",
    "#x2, y2 = [1200, 1250], [-250, -250]\n",
    "#plt.plot(x1, y1, x2, y2, color = 'k', lw = 1)\n",
    "\n",
    "#plt.text(1065, -250, '100 pA', fontsize = 6, rotation = 90)\n",
    "#plt.text(1150, -280, '50 ms', fontsize = 6)\n",
    "x3, y3 = [1000, 1010], [35, 35]\n",
    "ax[0].plot(x3, y3, color = 'orange', lw = 3)\n",
    "x1, y1 = [1000, 1000], [30, 40]\n",
    "ax[1].plot(x1, y1, color = 'k', lw = 0.75)\n",
    "\n",
    "ax[0].set_ylabel(None)\n",
    "ax[0].set_xlabel(None)\n",
    "ax[1].set_xlabel(None)\n",
    "\n",
    "plt.savefig('../figOutputs/Fig3_V1_MSN_trace.pdf', dpi = 300, bbox_inches = 'tight', transparent = True)"
   ]
  },
  {
   "cell_type": "code",
   "execution_count": 18,
   "metadata": {
    "tags": []
   },
   "outputs": [],
   "source": [
    "path = ('../data/Fig3/MSN_S1.abf') #set path to project data folder\n",
    "\n",
    "new = pyabf.ABF(path) # import pClamp file \n",
    "\n",
    "on405, off405, dur405 = find_stims(new, chan = 1) #find on time, off time, and duration of each 405 pulse \n",
    "on590, off590, dur590 = find_stims(new, chan = 2) #find on time, off time, and duration of each 590 pulse "
   ]
  },
  {
   "cell_type": "code",
   "execution_count": 19,
   "metadata": {
    "tags": []
   },
   "outputs": [],
   "source": [
    "PL_EPSC, V1_EPSC = extractTraces(0,15,17,24)\n",
    "\n",
    "mPLe = pd.DataFrame(PL_EPSC).melt()\n",
    "mV1e = pd.DataFrame(V1_EPSC).melt()"
   ]
  },
  {
   "cell_type": "code",
   "execution_count": 20,
   "metadata": {
    "tags": []
   },
   "outputs": [
    {
     "data": {
      "image/png": "[encoded data removed]",
      "text/plain": [
       "<Figure size 225x525 with 2 Axes>"
      ]
     },
     "metadata": {},
     "output_type": "display_data"
    }
   ],
   "source": [
    "fig, ax = plt.subplots(1,2, figsize = (0.75,1.75), sharey = True, sharex = True, dpi = 300)\n",
    "\n",
    "sns.lineplot(ax = ax[0], data = mV1e, x = 'variable', y = 'value', n_boot= 1000, errorbar = ('se'), color = 'orange', lw = 0.75)\n",
    "sns.lineplot(ax = ax[1], data = mPLe, x = 'variable', y = 'value', n_boot= 1000, errorbar = ('se'), color = 'k', lw =0.75)\n",
    "\n",
    "\n",
    "plt.xlim(980,1400)\n",
    "plt.ylim(-400,100)\n",
    "\n",
    "ax[0].tick_params(         \n",
    "    which='both',      \n",
    "    bottom=False,   \n",
    "    left=False,\n",
    "    top=False,        \n",
    "    labelleft=False, \n",
    "    labelbottom = False)\n",
    "\n",
    "ax[1].tick_params(         \n",
    "    which='both',      \n",
    "    bottom=False,   \n",
    "    left=False,\n",
    "    top=False,        \n",
    "    labelleft=False, \n",
    "    labelbottom = False)\n",
    "\n",
    "sns.despine(ax = ax[0], top = True, bottom = True, left = True, right = True)\n",
    "sns.despine(ax = ax[1], top = True, bottom = True, left = True, right = True)\n",
    "x1, y1 = [1300, 1300], [-250, -150]\n",
    "x2, y2 = [1300, 1400], [-250, -250]\n",
    "plt.plot(x1, y1, x2, y2, color = 'k', lw = 1)\n",
    "\n",
    "plt.text(1150, -250, '100 pA', fontsize = 6, rotation = 90)\n",
    "plt.text(1250, -280, '100 ms', fontsize = 6)\n",
    "x3, y3 = [1000, 1010], [35, 35]\n",
    "ax[0].plot(x3, y3, color = 'orange', lw = 3)\n",
    "x1, y1 = [1000, 1000], [30, 40]\n",
    "ax[1].plot(x1, y1, color = 'k', lw = 0.75)\n",
    "\n",
    "ax[0].set_ylabel(None)\n",
    "ax[0].set_xlabel(None)\n",
    "ax[1].set_xlabel(None)\n",
    "\n",
    "plt.savefig('../figOutputs/Fig3_S1_MSN_trace.pdf', dpi = 300, bbox_inches = 'tight', transparent = True)"
   ]
  },
  {
   "cell_type": "code",
   "execution_count": 21,
   "metadata": {
    "tags": []
   },
   "outputs": [],
   "source": [
    "path = ('../data/Fig3/MSN_A1.abf') #set path to project data folder\n",
    "\n",
    "new = pyabf.ABF(path) # import pClamp file \n",
    "\n",
    "on405, off405, dur405 = find_stims(new, chan = 1) #find on time, off time, and duration of each 405 pulse \n",
    "on590, off590, dur590 = find_stims(new, chan = 2) #find on time, off time, and duration of each 590 pulse "
   ]
  },
  {
   "cell_type": "code",
   "execution_count": 22,
   "metadata": {
    "tags": []
   },
   "outputs": [],
   "source": [
    "PL_EPSC, V1_EPSC, = extractTraces(10,19,20,27)\n",
    "\n",
    "mPLe = pd.DataFrame(PL_EPSC).melt()\n",
    "mV1e = pd.DataFrame(V1_EPSC).melt()"
   ]
  },
  {
   "cell_type": "code",
   "execution_count": 23,
   "metadata": {
    "tags": []
   },
   "outputs": [
    {
     "data": {
      "image/png": "[encoded data removed]",
      "text/plain": [
       "<Figure size 225x525 with 2 Axes>"
      ]
     },
     "metadata": {},
     "output_type": "display_data"
    }
   ],
   "source": [
    "fig, ax = plt.subplots(1,2, figsize = (0.75,1.75), sharey = True, sharex = True, dpi = 300)\n",
    "\n",
    "sns.lineplot(ax = ax[0], data = mV1e, x = 'variable', y = 'value', n_boot= 1000, errorbar = ('se'), color = 'orange', lw = 0.75)\n",
    "sns.lineplot(ax = ax[1], data = mPLe, x = 'variable', y = 'value', n_boot= 1000, errorbar = ('se'), color = 'k', lw =0.75)\n",
    "\n",
    "\n",
    "plt.xlim(980,1400)\n",
    "plt.ylim(-400,100)\n",
    "\n",
    "ax[0].tick_params(         \n",
    "    which='both',      \n",
    "    bottom=False,   \n",
    "    left=False,\n",
    "    top=False,        \n",
    "    labelleft=False, \n",
    "    labelbottom = False)\n",
    "\n",
    "ax[1].tick_params(         \n",
    "    which='both',      \n",
    "    bottom=False,   \n",
    "    left=False,\n",
    "    top=False,        \n",
    "    labelleft=False, \n",
    "    labelbottom = False)\n",
    "\n",
    "sns.despine(ax = ax[0], top = True, bottom = True, left = True, right = True)\n",
    "sns.despine(ax = ax[1], top = True, bottom = True, left = True, right = True)\n",
    "#x1, y1 = [1200, 1200], [-250, -150]\n",
    "#x2, y2 = [1200, 1250], [-250, -250]\n",
    "#plt.plot(x1, y1, x2, y2, color = 'k', lw = 1)\n",
    "\n",
    "#plt.text(1065, -250, '100 pA', fontsize = 6, rotation = 90)\n",
    "#plt.text(1150, -280, '50 ms', fontsize = 6)\n",
    "x3, y3 = [1000, 1010], [35, 35]\n",
    "ax[0].plot(x3, y3, color = 'orange', lw = 3)\n",
    "x1, y1 = [1000, 1000], [30, 40]\n",
    "ax[1].plot(x1, y1, color = 'k', lw = 0.75)\n",
    "\n",
    "ax[0].set_ylabel(None)\n",
    "ax[0].set_xlabel(None)\n",
    "ax[1].set_xlabel(None)\n",
    "\n",
    "plt.savefig('../figOutputs/Fig3_A1_MSN_trace.pdf', dpi = 300, bbox_inches = 'tight', transparent = True)"
   ]
  },
  {
   "cell_type": "code",
   "execution_count": null,
   "metadata": {},
   "outputs": [],
   "source": []
  },
  {
   "cell_type": "code",
   "execution_count": null,
   "metadata": {},
   "outputs": [],
   "source": []
  },
  {
   "cell_type": "code",
   "execution_count": null,
   "metadata": {},
   "outputs": [],
   "source": []
  },
  {
   "cell_type": "code",
   "execution_count": null,
   "metadata": {},
   "outputs": [],
   "source": []
  },
  {
   "cell_type": "code",
   "execution_count": null,
   "metadata": {},
   "outputs": [],
   "source": []
  }
 ],
 "metadata": {
  "kernelspec": {
   "display_name": "Python 3 (ipykernel)",
   "language": "python",
   "name": "python3"
  },
  "language_info": {
   "codemirror_mode": {
    "name": "ipython",
    "version": 3
   },
   "file_extension": ".py",
   "mimetype": "text/x-python",
   "name": "python",
   "nbconvert_exporter": "python",
   "pygments_lexer": "ipython3",
   "version": "3.11.5"
  }
 },
 "nbformat": 4,
 "nbformat_minor": 4
}
