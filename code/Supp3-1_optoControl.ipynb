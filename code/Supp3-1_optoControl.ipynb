{
 "cells": [
  {
   "cell_type": "code",
   "execution_count": 2,
   "id": "27eadf8c-4dcd-4def-9329-da3b5faa5520",
   "metadata": {
    "tags": []
   },
   "outputs": [],
   "source": [
    "import matplotlib.pyplot as plt \n",
    "import seaborn as sns \n",
    "import pandas as pd \n",
    "import numpy as np \n",
    "import scipy.stats as ss\n",
    "from scipy.signal import find_peaks\n",
    "import pyabf"
   ]
  },
  {
   "cell_type": "code",
   "execution_count": 3,
   "id": "fb7f7657-da36-4c7a-b9a9-6a1a61de441b",
   "metadata": {
    "tags": []
   },
   "outputs": [],
   "source": [
    "plt.rcParams[\"font.family\"] = \"arial\"\n",
    "plt.rcParams[\"font.size\"] = 6\n",
    "plt.rcParams['axes.linewidth'] = 0.5\n",
    "plt.rcParams['xtick.major.width'] = 0.25\n",
    "plt.rcParams['xtick.major.size'] = 2\n",
    "plt.rcParams['xtick.major.pad'] = 2\n",
    "\n",
    "plt.rcParams['ytick.major.width'] = 0.25\n",
    "plt.rcParams['ytick.major.size'] = 2\n",
    "plt.rcParams['ytick.major.pad'] = 2\n",
    "plt.rcParams['ytick.major.pad'] = 2\n",
    "\n",
    "plt.rcParams['axes.labelpad'] = 2"
   ]
  },
  {
   "cell_type": "code",
   "execution_count": 4,
   "id": "77b954cf-9732-4261-95d0-ba7da91cfaa4",
   "metadata": {
    "tags": []
   },
   "outputs": [],
   "source": [
    "io = pd.read_excel('../data/Fig3/Sup3-1.xlsx')\n",
    "io['absAmp'] = abs(io['amplitude'])"
   ]
  },
  {
   "cell_type": "code",
   "execution_count": 6,
   "id": "56cb7847-1916-42d6-86ce-f99bb74529ba",
   "metadata": {
    "tags": []
   },
   "outputs": [
    {
     "data": {
      "image/png": "[encoded data removed]",
      "text/plain": [
       "<Figure size 200x200 with 1 Axes>"
      ]
     },
     "metadata": {},
     "output_type": "display_data"
    }
   ],
   "source": [
    "fig, ax = plt.subplots(figsize = (2,2))\n",
    "sns.pointplot(data = io, x = 'duration',  y = 'absAmp', hue = 'stimType', errorbar = (\"se\"), palette = ['RoyalBlue', 'FireBrick'], linewidth = 2)\n",
    "plt.yscale('log')\n",
    "#plt.xscale('log')\n",
    "\n",
    "plt.xticks([0.1, 0.6, 1, 3], [0.1, 0.6, 1, 3], fontsize = 6)\n",
    "plt.yticks([10, 100, 1000, 10000],[10, 10, 100, 1000], fontsize = 6)\n",
    "\n",
    "plt.xlabel('Pulse duration (ms)', fontsize = 6)\n",
    "plt.ylabel('Absolute EPSC (pA)', fontsize = 6)\n",
    "#plt.title ('ChrimsonR responses', fontsize = 6)\n",
    "h, l = ax.get_legend_handles_labels()\n",
    "plt.legend( loc='upper left', handles = h, labels=['405 nm', '595 nm'], frameon = False, fontsize = 6)\n",
    "sns.despine()\n",
    "fig.tight_layout()\n",
    "plt.savefig('../figOutputs/Fig3-1_ChrimsonR.png', bbox_inches = 'tight', dpi = 300)"
   ]
  },
  {
   "cell_type": "code",
   "execution_count": null,
   "id": "ebea1bf7-e9d5-4cf2-9101-8d3c8aca961d",
   "metadata": {},
   "outputs": [],
   "source": []
  },
  {
   "cell_type": "code",
   "execution_count": null,
   "id": "bba8a9e5-7fd6-4ea2-9490-d0a3918c8f46",
   "metadata": {},
   "outputs": [],
   "source": []
  },
  {
   "cell_type": "code",
   "execution_count": null,
   "id": "3398ee53-0592-4fdc-89be-c6c5a402db5f",
   "metadata": {},
   "outputs": [],
   "source": []
  },
  {
   "cell_type": "code",
   "execution_count": null,
   "id": "26aa75ed-1602-400c-993c-29cc0ee7f72c",
   "metadata": {},
   "outputs": [],
   "source": []
  }
 ],
 "metadata": {
  "kernelspec": {
   "display_name": "Python 3 (ipykernel)",
   "language": "python",
   "name": "python3"
  },
  "language_info": {
   "codemirror_mode": {
    "name": "ipython",
    "version": 3
   },
   "file_extension": ".py",
   "mimetype": "text/x-python",
   "name": "python",
   "nbconvert_exporter": "python",
   "pygments_lexer": "ipython3",
   "version": "3.11.5"
  }
 },
 "nbformat": 4,
 "nbformat_minor": 5
}
