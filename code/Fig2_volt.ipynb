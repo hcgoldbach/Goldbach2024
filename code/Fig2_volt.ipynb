{
 "cells": [
  {
   "cell_type": "code",
   "execution_count": 1,
   "metadata": {},
   "outputs": [],
   "source": [
    "import matplotlib.pyplot as plt \n",
    "import seaborn as sns \n",
    "import pandas as pd \n",
    "import numpy as np \n",
    "import scipy.stats as ss"
   ]
  },
  {
   "cell_type": "code",
   "execution_count": 2,
   "metadata": {
    "tags": []
   },
   "outputs": [],
   "source": [
    "plt.rcParams[\"font.family\"] = \"arial\"\n",
    "plt.rcParams[\"font.size\"] = 6\n",
    "plt.rcParams['axes.linewidth'] = 0.5\n",
    "plt.rcParams['xtick.major.width'] = 0.25\n",
    "plt.rcParams['xtick.major.size'] = 2\n",
    "plt.rcParams['xtick.major.pad'] = 2\n",
    "\n",
    "plt.rcParams['ytick.major.width'] = 0.25\n",
    "plt.rcParams['ytick.major.size'] = 2\n",
    "plt.rcParams['ytick.major.pad'] = 2\n",
    "plt.rcParams['ytick.major.pad'] = 2\n",
    "\n",
    "plt.rcParams['axes.labelpad'] = 2"
   ]
  },
  {
   "cell_type": "markdown",
   "metadata": {},
   "source": [
    "### Voltammetry Traces\n",
    "Figure 2"
   ]
  },
  {
   "cell_type": "code",
   "execution_count": 3,
   "metadata": {},
   "outputs": [],
   "source": [
    "mpfc = pd.read_excel('../data/Fig2/mPFC_traces.xlsx', index_col = [0])"
   ]
  },
  {
   "cell_type": "code",
   "execution_count": 4,
   "metadata": {},
   "outputs": [
    {
     "data": {
      "image/png": "[encoded data removed]",
      "text/plain": [
       "<Figure size 105x112.5 with 2 Axes>"
      ]
     },
     "metadata": {},
     "output_type": "display_data"
    }
   ],
   "source": [
    "fig,ax = plt.subplots(1,2,figsize = [1.4, 1.5], dpi = 75, sharey = True, sharex = True)\n",
    "sns.lineplot(ax = ax[1], data = mpfc, x = 'X', y = 'stim-elec', color = '0.25')\n",
    "sns.lineplot(ax = ax[1], data = mpfc, x = 'X', y = 'dhbe-elec', color = '0.25', linestyle = ':')\n",
    "sns.lineplot(ax = ax[0], data = mpfc, x = 'X', y = 'stim-opto', color = 'RoyalBlue')\n",
    "sns.lineplot(ax = ax[0], data = mpfc, x = 'X', y = 'dhbe-opto', color = 'RoyalBlue', linestyle = ':')\n",
    "ax[0].set_ylim(-12,50)\n",
    "ax[0].set_xlabel(None)\n",
    "ax[1].set_xlabel(None)\n",
    "ax[0].set_ylabel(None)\n",
    "\n",
    "ax[0].set_xlim(-1, 3)\n",
    "sns.despine(bottom = True, left = True)\n",
    "\n",
    "ax[0].plot([0,0], [-5,-2], lw = 1, color = 'royalBlue')\n",
    "ax[1].plot([0,0], [-5,-2], lw = 1, color = 'k')\n",
    "\n",
    "ax[0].tick_params(         \n",
    "    which='both',      \n",
    "    bottom=False,   \n",
    "    left=False,\n",
    "    top=False,        \n",
    "    labelleft=False, \n",
    "    labelbottom = False)\n",
    "\n",
    "ax[1].tick_params(         \n",
    "    which='both',      \n",
    "    bottom=False,   \n",
    "    left=False,\n",
    "    top=False,        \n",
    "    labelleft=False, \n",
    "    labelbottom = False)\n",
    "\n",
    "fig.tight_layout()\n",
    "plt.savefig('../figOutputs/fig2_pfc_traces.pdf', dpi = 300, transparent = True)"
   ]
  },
  {
   "cell_type": "code",
   "execution_count": 5,
   "metadata": {
    "tags": []
   },
   "outputs": [
    {
     "data": {
      "text/plain": [
       "index        4.622871\n",
       "X            0.006083\n",
       "stim-elec    0.876026\n",
       "stim-opto    0.625860\n",
       "dhbe-elec    0.433841\n",
       "dhbe-opto   -0.009816\n",
       "dtype: float64"
      ]
     },
     "execution_count": 5,
     "metadata": {},
     "output_type": "execute_result"
    }
   ],
   "source": [
    "(mpfc[mpfc['X'] == 0.2]/32.88).mean()"
   ]
  },
  {
   "cell_type": "code",
   "execution_count": 6,
   "metadata": {
    "tags": []
   },
   "outputs": [
    {
     "data": {
      "text/plain": [
       "index        1.505398\n",
       "X            0.000000\n",
       "stim-elec    0.015181\n",
       "stim-opto    0.011033\n",
       "dhbe-elec    0.005860\n",
       "dhbe-opto    0.001161\n",
       "dtype: float64"
      ]
     },
     "execution_count": 6,
     "metadata": {},
     "output_type": "execute_result"
    }
   ],
   "source": [
    "(mpfc[mpfc['X'] == 0.2]/32.88).sem()"
   ]
  },
  {
   "cell_type": "code",
   "execution_count": 7,
   "metadata": {},
   "outputs": [],
   "source": [
    "S1 = pd.read_excel('../data/Fig2/S1_traces.xlsx', index_col = [0])"
   ]
  },
  {
   "cell_type": "code",
   "execution_count": 8,
   "metadata": {},
   "outputs": [
    {
     "data": {
      "image/png": "[encoded data removed]",
      "text/plain": [
       "<Figure size 105x112.5 with 2 Axes>"
      ]
     },
     "metadata": {},
     "output_type": "display_data"
    }
   ],
   "source": [
    "fig,ax = plt.subplots(1,2,figsize = [1.4, 1.5], dpi = 75, sharey = True, sharex = True)\n",
    "sns.lineplot(ax = ax[1], data = S1, x = 'X', y = 'stim-elec', color = '0.25',)\n",
    "sns.lineplot(ax = ax[0], data = S1, x = 'X', y = 'stim-opto', color = 'RoyalBlue', label = 'ACSF')\n",
    "sns.lineplot(ax = ax[1], data = S1, x = 'X', y = 'dhbe-elec', color = '0.25', linestyle = ':')\n",
    "sns.lineplot(ax = ax[0], data = S1, x = 'X', y = 'dhbe-opto', color = 'RoyalBlue', linestyle = \":\", label = 'DHBE')\n",
    "ax[0].set_ylim(-12,50)\n",
    "ax[0].set_xlabel(None)\n",
    "ax[1].set_xlabel(None)\n",
    "ax[0].set_ylabel(None)\n",
    "#plt.yticks(fontsize = 15)\n",
    "#plt.yticks([0, 16.44, 32.88, 49.32], [0, 0.5, 1, 1.5],fontsize = 15)\n",
    "ax[0].set_xlim(-1, 3)\n",
    "sns.despine(bottom = True, left = True)\n",
    "\n",
    "#x1, y1 = [2, 2], [10, 26.44]\n",
    "#x2, y2 = [2, 3], [10, 10]\n",
    "#ax[0].plot(x1, y1, x2, y2, color = 'k', lw = 1)\n",
    "ax[0].plot([0,0], [-5,-2], lw = 1, color = 'blue')\n",
    "ax[1].plot([0,0], [-5,-2], lw = 1, color = 'k')\n",
    "#ax[0].text(2, 6, '1 s')\n",
    "#ax[0].text(1.6, 14, '0.5 uM', rotation = 90)\n",
    "\n",
    "x1, y1 = [2, 2], [10, 26.44]\n",
    "x2, y2 = [2, 3], [10, 10]\n",
    "ax[0].plot(x1, y1, x2, y2, color = 'k', lw = 1)\n",
    "ax[0].text(2, 5, '1 s', fontsize = 6)\n",
    "ax[0].text(1.35, 14, '0.5 uM', fontsize = 6, rotation = 90)\n",
    "\n",
    "ax[0].legend(frameon = False, fontsize = 6, loc = (0.2, 0.7))\n",
    "\n",
    "ax[0].tick_params(         \n",
    "    which='both',      \n",
    "    bottom=False,   \n",
    "    left=False,\n",
    "    top=False,        \n",
    "    labelleft=False, \n",
    "    labelbottom = False)\n",
    "\n",
    "ax[1].tick_params(         \n",
    "    which='both',      \n",
    "    bottom=False,   \n",
    "    left=False,\n",
    "    top=False,        \n",
    "    labelleft=False, \n",
    "    labelbottom = False)\n",
    "\n",
    "fig.tight_layout()\n",
    "plt.savefig('../figOutputs/fig2_S1_traces.pdf', dpi = 300, transparent = True)"
   ]
  },
  {
   "cell_type": "code",
   "execution_count": 9,
   "metadata": {
    "tags": []
   },
   "outputs": [
    {
     "data": {
      "text/plain": [
       "index        5.687348\n",
       "X            0.006083\n",
       "stim-elec    0.913650\n",
       "stim-opto    0.001315\n",
       "dhbe-elec    0.471812\n",
       "dhbe-opto    0.000461\n",
       "dtype: float64"
      ]
     },
     "execution_count": 9,
     "metadata": {},
     "output_type": "execute_result"
    }
   ],
   "source": [
    "(S1[S1['X'] == 0.2]/32.88).mean()"
   ]
  },
  {
   "cell_type": "code",
   "execution_count": 10,
   "metadata": {
    "tags": []
   },
   "outputs": [
    {
     "data": {
      "text/plain": [
       "index        1.626015\n",
       "X            0.000000\n",
       "stim-elec    0.028528\n",
       "stim-opto    0.001139\n",
       "dhbe-elec    0.030345\n",
       "dhbe-opto    0.002884\n",
       "dtype: float64"
      ]
     },
     "execution_count": 10,
     "metadata": {},
     "output_type": "execute_result"
    }
   ],
   "source": [
    "(S1[S1['X'] == 0.2]/32.88).sem()"
   ]
  },
  {
   "cell_type": "code",
   "execution_count": 11,
   "metadata": {
    "tags": []
   },
   "outputs": [],
   "source": [
    "V1 = pd.read_excel('../data/Fig2/V1_traces.xlsx', index_col = [0])"
   ]
  },
  {
   "cell_type": "code",
   "execution_count": 12,
   "metadata": {},
   "outputs": [
    {
     "data": {
      "image/png": "[encoded data removed]",
      "text/plain": [
       "<Figure size 105x112.5 with 2 Axes>"
      ]
     },
     "metadata": {},
     "output_type": "display_data"
    }
   ],
   "source": [
    "fig,ax = plt.subplots(1,2,figsize = [1.4, 1.5], dpi = 75, sharey = True, sharex = True)\n",
    "sns.lineplot(ax = ax[1], data = V1, x = 'x', y = 'elec', color = '0.25')\n",
    "sns.lineplot(ax = ax[0], data = V1, x = 'x', y = 'opto', color = 'RoyalBlue')\n",
    "sns.lineplot(ax = ax[1], data = V1, x = 'x', y = 'elec-dhbe', color = '0.25', ls = \":\")\n",
    "sns.lineplot(ax = ax[0], data = V1, x = 'x', y = 'opto-dhbe', color = 'RoyalBlue', ls = \":\")\n",
    "ax[0].set_ylim(-12,50)\n",
    "ax[0].set_xlabel(None)\n",
    "ax[1].set_xlabel(None)\n",
    "ax[0].set_ylabel(None)\n",
    "#plt.yticks(fontsize = 15)\n",
    "plt.yticks([0, 16.44, 32.88, 49.32], [0, 0.5, 1, 1.5],fontsize = 15)\n",
    "ax[0].set_xlim(-1, 3)\n",
    "sns.despine(bottom = True, left = True)\n",
    "\n",
    "ax[0].plot([0,0], [-5,-2], lw = 1, color = 'blue')\n",
    "ax[1].plot([0,0], [-5,-2], lw = 1, color = 'k')\n",
    "\n",
    "ax[0].tick_params(         \n",
    "    which='both',      \n",
    "    bottom=False,   \n",
    "    left=False,\n",
    "    top=False,        \n",
    "    labelleft=False, \n",
    "    labelbottom = False)\n",
    "\n",
    "ax[1].tick_params(         \n",
    "    which='both',      \n",
    "    bottom=False,   \n",
    "    left=False,\n",
    "    top=False,        \n",
    "    labelleft=False, \n",
    "    labelbottom = False)\n",
    "\n",
    "fig.tight_layout()\n",
    "plt.savefig('../figOutputs/fig2_V1_traces.pdf', dpi = 300, transparent = True)"
   ]
  },
  {
   "cell_type": "code",
   "execution_count": 13,
   "metadata": {
    "tags": []
   },
   "outputs": [
    {
     "data": {
      "text/plain": [
       "x            0.006083\n",
       "elec         0.528827\n",
       "opto         0.000655\n",
       "elec-dhbe    0.209851\n",
       "opto-dhbe    0.000405\n",
       "dtype: float64"
      ]
     },
     "execution_count": 13,
     "metadata": {},
     "output_type": "execute_result"
    }
   ],
   "source": [
    "(V1[V1['x'] == 0.2]/32.88).mean()"
   ]
  },
  {
   "cell_type": "code",
   "execution_count": 14,
   "metadata": {},
   "outputs": [
    {
     "data": {
      "text/plain": [
       "x            0.000000\n",
       "elec         0.010864\n",
       "opto         0.001492\n",
       "elec-dhbe    0.002307\n",
       "opto-dhbe    0.001307\n",
       "dtype: float64"
      ]
     },
     "execution_count": 14,
     "metadata": {},
     "output_type": "execute_result"
    }
   ],
   "source": [
    "(V1[V1['x'] == 0.2]/32.88).sem()"
   ]
  },
  {
   "cell_type": "code",
   "execution_count": 15,
   "metadata": {},
   "outputs": [],
   "source": [
    "A1 = pd.read_excel('../data/Fig2/A1_traces.xlsx', index_col = [0])"
   ]
  },
  {
   "cell_type": "code",
   "execution_count": 16,
   "metadata": {},
   "outputs": [
    {
     "data": {
      "image/png": "[encoded data removed]",
      "text/plain": [
       "<Figure size 105x112.5 with 2 Axes>"
      ]
     },
     "metadata": {},
     "output_type": "display_data"
    }
   ],
   "source": [
    "fig,ax = plt.subplots(1,2,figsize = [1.4, 1.5], dpi = 75, sharey = True, sharex = True)\n",
    "sns.lineplot(ax = ax[1], data = A1, x = 'X', y = 'stim-elec', color = '0.25')\n",
    "sns.lineplot(ax = ax[0], data = A1, x = 'X', y = 'stim-opto', color = 'RoyalBlue')\n",
    "sns.lineplot(ax = ax[1], data = A1, x = 'X', y = 'dhbe-elec', color = '0.25', linestyle = \":\")\n",
    "sns.lineplot(ax = ax[0], data = A1, x = 'X', y = 'dhbe-opto', color = 'RoyalBlue', linestyle = \":\")\n",
    "ax[0].set_ylim(-12,50)\n",
    "ax[0].set_xlabel(None)\n",
    "ax[1].set_xlabel(None)\n",
    "ax[0].set_ylabel(None)\n",
    "#plt.yticks(fontsize = 15)\n",
    "#plt.yticks([0, 16.44, 32.88, 49.32], [0, 0.5, 1, 1.5],fontsize = 15)\n",
    "ax[0].set_xlim(-1, 3)\n",
    "sns.despine(bottom = True, left = True)\n",
    "\n",
    "#x1, y1 = [2, 2], [10, 26.44]\n",
    "#x2, y2 = [2, 3], [10, 10]\n",
    "#ax[0].plot(x1, y1, x2, y2, color = 'k', lw = 1)\n",
    "ax[0].plot([0,0], [-5,-2], lw = 1, color = 'blue')\n",
    "ax[1].plot([0,0], [-5,-2], lw = 1, color = 'k')\n",
    "#ax[0].text(2, 6, '1 s')\n",
    "#ax[0].text(1.6, 14, '0.5 uM', rotation = 90)\n",
    "\n",
    "\n",
    "\n",
    "ax[0].tick_params(         \n",
    "    which='both',      \n",
    "    bottom=False,   \n",
    "    left=False,\n",
    "    top=False,        \n",
    "    labelleft=False, \n",
    "    labelbottom = False)\n",
    "\n",
    "ax[1].tick_params(         \n",
    "    which='both',      \n",
    "    bottom=False,   \n",
    "    left=False,\n",
    "    top=False,        \n",
    "    labelleft=False, \n",
    "    labelbottom = False)\n",
    "\n",
    "fig.tight_layout()\n",
    "plt.savefig('../figOutputs/fig2_A1_traces.pdf', dpi = 300)"
   ]
  },
  {
   "cell_type": "code",
   "execution_count": 17,
   "metadata": {
    "tags": []
   },
   "outputs": [
    {
     "data": {
      "text/plain": [
       "index        60.621778\n",
       "X             0.000000\n",
       "stim-elec     0.736536\n",
       "stim-opto     0.048318\n",
       "dhbe-elec     0.374267\n",
       "dhbe-opto     0.046270\n",
       "dtype: float64"
      ]
     },
     "execution_count": 17,
     "metadata": {},
     "output_type": "execute_result"
    }
   ],
   "source": [
    "(A1[A1['X'] == 0.2]).sem()"
   ]
  },
  {
   "cell_type": "code",
   "execution_count": 18,
   "metadata": {
    "tags": []
   },
   "outputs": [
    {
     "data": {
      "text/plain": [
       "index        60.621778\n",
       "X             0.000000\n",
       "stim-elec     0.736536\n",
       "stim-opto     0.048318\n",
       "dhbe-elec     0.374267\n",
       "dhbe-opto     0.046270\n",
       "dtype: float64"
      ]
     },
     "execution_count": 18,
     "metadata": {},
     "output_type": "execute_result"
    }
   ],
   "source": [
    "(A1[A1['X'] == 0.2]).sem()"
   ]
  },
  {
   "cell_type": "code",
   "execution_count": null,
   "metadata": {},
   "outputs": [],
   "source": []
  },
  {
   "cell_type": "markdown",
   "metadata": {},
   "source": [
    "### Bar Graphs"
   ]
  },
  {
   "cell_type": "code",
   "execution_count": 19,
   "metadata": {},
   "outputs": [],
   "source": [
    "df = pd.read_excel('../data/Fig2/population_BarGraphs.xlsx', index_col = [0])"
   ]
  },
  {
   "cell_type": "code",
   "execution_count": 20,
   "metadata": {
    "tags": []
   },
   "outputs": [],
   "source": [
    "def printStats(area): \n",
    "    print('ACSF - electrical')\n",
    "    print('N animals: ', len(df[(df['area'] == area)&(df['protocolOpto'] == 'acsf_0.0')]['date'].unique()))\n",
    "    print('N slices: ', len(df[(df['area'] == area)&(df['protocolOpto'] == 'acsf_0.0')]))\n",
    "    print('mean: ', df[(df['area'] == area)&(df['protocolOpto'] == 'acsf_0.0')]['amplitude'].mean())\n",
    "    print('sem: ', (df[(df['area'] == area)&(df['protocolOpto'] == 'acsf_0.0')]['amplitude']).sem())\n",
    "    print('')\n",
    "    print('ACSF - opto')\n",
    "    print(len(df[(df['area'] == area)&(df['protocolOpto'] == 'acsf_1.0')]['date'].unique()))\n",
    "    print(len(df[(df['area'] == area)&(df['protocolOpto'] == 'acsf_1.0')]))\n",
    "    print(df[(df['area'] == area)&(df['protocolOpto'] == 'acsf_1.0')]['amplitude'].mean())\n",
    "    print((df[(df['area'] == area)&(df['protocolOpto'] == 'acsf_1.0')]['amplitude']).sem())\n",
    "    print('')\n",
    "    print('DHBE - electrical')\n",
    "    print(len(df[(df['area'] == area)&(df['protocolOpto'] == 'dhbe_0.0')]['date'].unique()))\n",
    "    print(len(df[(df['area'] == area)&(df['protocolOpto'] == 'dhbe_0.0')]))\n",
    "    print(df[(df['area'] == area)&(df['protocolOpto'] == 'dhbe_0.0')]['amplitude'].mean())\n",
    "    print((df[(df['area'] == area)&(df['protocolOpto'] == 'dhbe_0.0')]['amplitude']).sem())\n",
    "    print('')\n",
    "    print('DHBE - opto')\n",
    "    print(len(df[(df['area'] == area)&(df['protocolOpto'] == 'dhbe_1.0')]['date'].unique()))\n",
    "    print(len(df[(df['area'] == area)&(df['protocolOpto'] == 'dhbe_1.0')]))\n",
    "    print(df[(df['area'] == area)&(df['protocolOpto'] == 'dhbe_1.0')]['amplitude'].mean())\n",
    "    print((df[(df['area'] == area)&(df['protocolOpto'] == 'dhbe_1.0')]['amplitude']).sem())\n",
    "    print('')\n",
    "    print('opto ACSF vs DHBE: ', ss.mannwhitneyu(df[(df['area'] == area)&(df['protocolOpto'] == 'acsf_1.0')]['amplitude'].astype('float64'), \n",
    "                df[(df['area'] == 'PFC')&(df['protocolOpto'] == 'dhbe_1.0')]['amplitude'].astype('float64')))\n",
    "\n",
    "    print('ACSF elec vs opto: ', ss.mannwhitneyu(df[(df['area'] == area)&(df['protocolOpto'] == 'acsf_1.0')]['amplitude'].astype('float64'), \n",
    "                df[(df['area'] == 'PFC')&(df['protocolOpto'] == 'acsf_0.0')]['amplitude'].astype('float64')))\n",
    "\n",
    "    print('elec ACSF vs DHBE: ', ss.mannwhitneyu(df[(df['area'] == area)&(df['protocolOpto'] == 'acsf_0.0')]['amplitude'].astype('float64'), \n",
    "                df[(df['area'] == 'PFC')&(df['protocolOpto'] == 'dhbe_0.0')]['amplitude'].astype('float64')))\n",
    "\n",
    "    print('DHBE elec vs opto: ', ss.mannwhitneyu(df[(df['area'] == area)&(df['protocolOpto'] == 'dhbe_1.0')]['amplitude'].astype('float64'), \n",
    "                df[(df['area'] == 'PFC')&(df['protocolOpto'] == 'dhbe_0.0')]['amplitude'].astype('float64')))"
   ]
  },
  {
   "cell_type": "code",
   "execution_count": 21,
   "metadata": {
    "tags": []
   },
   "outputs": [
    {
     "data": {
      "image/png": "[encoded data removed]",
      "text/plain": [
       "<Figure size 510x360 with 1 Axes>"
      ]
     },
     "metadata": {},
     "output_type": "display_data"
    }
   ],
   "source": [
    "fig,ax = plt.subplots(figsize = [1.7, 1.2], dpi = 300)\n",
    "\n",
    "ax = sns.barplot(data = df[(df['area'] == 'PFC')], x = 'protocolOpto', y = 'amplitude', \n",
    "            order = ['acsf_1.0', 'dhbe_1.0','acsf_0.0', 'dhbe_0.0'], errorbar = ('se'), hue = 'protocolOpto', \n",
    "            palette = ['0.6','RoyalBlue','1', 'Navy'], alpha = 0.5, capsize = 0.2, err_kws ={'linewidth':1}, linewidth=1)\n",
    "sns.stripplot(data = df[(df['area'] == 'PFC')], x = 'protocolOpto', y = 'amplitude', \n",
    "              order = ['acsf_1.0', 'dhbe_1.0','acsf_0.0', 'dhbe_0.0'], hue = 'protocolOpto', \n",
    "              palette = ['0.6','RoyalBlue','0.2', 'Navy'], dodge = False, size = 4, alpha = 0.3, legend = False)\n",
    "ax.patches[2].set_edgecolor('0.5')\n",
    "plt.xticks([0,1,2,3], ['ACSF', 'DHBE', 'ACSF', 'DHBE'])\n",
    "plt.xlabel(None)\n",
    "\n",
    "\n",
    "ax.set_yticks([0, 0.5, 1,1.5])\n",
    "ax.set_yticklabels([0, 0.5, 1,1.5], fontsize = 6)\n",
    "plt.ylabel('DA concentration (uM)', fontsize = 7)\n",
    "\n",
    "sns.despine(offset = 3)\n",
    "plt.tight_layout()\n",
    "plt.savefig('../figOutputs/fig2_mpfc_dhbe.pdf', dpi = 300, transparent = True)"
   ]
  },
  {
   "cell_type": "code",
   "execution_count": 22,
   "metadata": {
    "tags": []
   },
   "outputs": [
    {
     "name": "stdout",
     "output_type": "stream",
     "text": [
      "ACSF - electrical\n",
      "N animals:  3\n",
      "N slices:  7\n",
      "mean:  0.8562106167810797\n",
      "sem:  0.09990233259811607\n",
      "\n",
      "ACSF - opto\n",
      "4\n",
      "10\n",
      "0.48400962302311423\n",
      "0.04527052432358973\n",
      "\n",
      "DHBE - electrical\n",
      "3\n",
      "5\n",
      "0.4469807050191171\n",
      "0.10212832438621434\n",
      "\n",
      "DHBE - opto\n",
      "3\n",
      "5\n",
      "0.02601348240209709\n",
      "0.018430785134175037\n",
      "\n",
      "opto ACSF vs DHBE:  MannwhitneyuResult(statistic=50.0, pvalue=0.000666000666000666)\n",
      "ACSF elec vs opto:  MannwhitneyuResult(statistic=6.0, pvalue=0.0030851501439736733)\n",
      "elec ACSF vs DHBE:  MannwhitneyuResult(statistic=32.0, pvalue=0.01767676767676768)\n",
      "DHBE elec vs opto:  MannwhitneyuResult(statistic=0.0, pvalue=0.007936507936507936)\n"
     ]
    }
   ],
   "source": [
    "printStats('PFC')"
   ]
  },
  {
   "cell_type": "code",
   "execution_count": 23,
   "metadata": {
    "tags": []
   },
   "outputs": [
    {
     "data": {
      "image/png": "[encoded data removed]",
      "text/plain": [
       "<Figure size 510x360 with 1 Axes>"
      ]
     },
     "metadata": {},
     "output_type": "display_data"
    }
   ],
   "source": [
    "fig,ax = plt.subplots(figsize = [1.7, 1.2], dpi = 300)\n",
    "\n",
    "ax = sns.barplot(data = df[df['area'] == 'S1'], x = 'protocolOpto', y = 'amplitude', \n",
    "            order = ['acsf_1.0', 'dhbe_1.0','acsf_0.0', 'dhbe_0.0'], errorbar = ('ci', 68), hue = 'protocolOpto', \n",
    "            palette = ['0.6','RoyalBlue','1', 'Navy'], alpha = 0.5, capsize = 0.2, err_kws ={'linewidth':1}, linewidth=1)\n",
    "sns.stripplot(data = df[df['area'] == 'S1'], x = 'protocolOpto', y = 'amplitude', \n",
    "              order = ['acsf_1.0', 'dhbe_1.0','acsf_0.0', 'dhbe_0.0'], hue = 'protocolOpto', \n",
    "              palette = ['0.6','RoyalBlue','0.2', 'Navy'], dodge = False, size = 4, alpha = 0.3, legend = False)\n",
    "ax.patches[2].set_edgecolor('0.5')\n",
    "plt.xticks([0,1,2,3], ['ACSF', 'DHBE', 'ACSF', 'DHBE'])\n",
    "plt.xlabel(None)\n",
    "\n",
    "\n",
    "ax.set_yticks([0, 0.5, 1,1.5, 2, 2.5])\n",
    "ax.set_yticklabels([0, 0.5, 1,1.5, 2, 2.5], fontsize = 6)\n",
    "plt.ylabel('DA concentration (uM)', fontsize = 7)\n",
    "\n",
    "sns.despine(offset = 3)\n",
    "plt.tight_layout()\n",
    "plt.savefig('../figOutputs/fig2_S1_dhbe.pdf', dpi = 300, transparent = True)"
   ]
  },
  {
   "cell_type": "code",
   "execution_count": 24,
   "metadata": {
    "tags": []
   },
   "outputs": [
    {
     "name": "stdout",
     "output_type": "stream",
     "text": [
      "ACSF - electrical\n",
      "N animals:  5\n",
      "N slices:  18\n",
      "mean:  1.0753352986428926\n",
      "sem:  0.1341983780699129\n",
      "\n",
      "ACSF - opto\n",
      "5\n",
      "18\n",
      "0.011343126567580367\n",
      "0.0014287793631891218\n",
      "\n",
      "DHBE - electrical\n",
      "3\n",
      "5\n",
      "0.32957586194241684\n",
      "0.2199910815711628\n",
      "\n",
      "DHBE - opto\n",
      "3\n",
      "5\n",
      "0.010849718952757501\n",
      "0.0009451156851794209\n",
      "\n",
      "opto ACSF vs DHBE:  MannwhitneyuResult(statistic=52.0, pvalue=0.638473654491961)\n",
      "ACSF elec vs opto:  MannwhitneyuResult(statistic=0.0, pvalue=4.160599126274184e-06)\n",
      "elec ACSF vs DHBE:  MannwhitneyuResult(statistic=77.0, pvalue=0.015097031115337752)\n",
      "DHBE elec vs opto:  MannwhitneyuResult(statistic=0.0, pvalue=0.007936507936507936)\n"
     ]
    }
   ],
   "source": [
    "printStats('S1')"
   ]
  },
  {
   "cell_type": "code",
   "execution_count": 25,
   "metadata": {
    "tags": []
   },
   "outputs": [
    {
     "data": {
      "image/png": "[encoded data removed]",
      "text/plain": [
       "<Figure size 510x360 with 1 Axes>"
      ]
     },
     "metadata": {},
     "output_type": "display_data"
    }
   ],
   "source": [
    "fig,ax = plt.subplots(figsize = [1.7, 1.2], dpi = 300)\n",
    "\n",
    "ax = sns.barplot(data = df[df['area'] == 'V1'], x = 'protocolOpto', y = 'amplitude', \n",
    "            order = ['acsf_1.0', 'dhbe_1.0','acsf_0.0', 'dhbe_0.0'], errorbar = ('ci', 68), hue = 'protocolOpto', \n",
    "            palette = ['0.6','RoyalBlue','1', 'Navy'], alpha = 0.5, capsize = 0.2, err_kws ={'linewidth':1}, linewidth=1)\n",
    "sns.stripplot(data = df[df['area'] == 'V1'], x = 'protocolOpto', y = 'amplitude', \n",
    "              order = ['acsf_1.0', 'dhbe_1.0','acsf_0.0', 'dhbe_0.0'], hue = 'protocolOpto', \n",
    "              palette = ['0.6','RoyalBlue','0.2', 'Navy'], dodge = False, size = 4, alpha = 0.3, legend = False)\n",
    "ax.patches[2].set_edgecolor('0.5')\n",
    "plt.xticks([0,1,2,3], ['ACSF', 'DHBE', 'ACSF', 'DHBE'])\n",
    "plt.xlabel(None)\n",
    "\n",
    "\n",
    "ax.set_yticks([0, 0.5, 1,1.5, 2, 2.5])\n",
    "ax.set_yticklabels([0, 0.5, 1,1.5, 2, 2.5], fontsize = 6)\n",
    "plt.ylabel('DA concentration (uM)', fontsize = 7)\n",
    "\n",
    "sns.despine(offset = 3)\n",
    "plt.tight_layout()\n",
    "plt.savefig('../figOutputs/fig2_V1_dhbe.pdf', dpi = 300, transparent = True)"
   ]
  },
  {
   "cell_type": "code",
   "execution_count": 26,
   "metadata": {
    "tags": []
   },
   "outputs": [
    {
     "name": "stdout",
     "output_type": "stream",
     "text": [
      "ACSF - electrical\n",
      "N animals:  8\n",
      "N slices:  20\n",
      "mean:  0.8539741127118582\n",
      "sem:  0.11414974354467397\n",
      "\n",
      "ACSF - opto\n",
      "8\n",
      "19\n",
      "0.02031137129402912\n",
      "0.004578640540709182\n",
      "\n",
      "DHBE - electrical\n",
      "2\n",
      "4\n",
      "0.1523489866560219\n",
      "0.02517884812865518\n",
      "\n",
      "DHBE - opto\n",
      "2\n",
      "4\n",
      "0.022066615806721413\n",
      "0.008378462527892412\n",
      "\n",
      "opto ACSF vs DHBE:  MannwhitneyuResult(statistic=63.0, pvalue=0.2965367965367965)\n",
      "ACSF elec vs opto:  MannwhitneyuResult(statistic=0.0, pvalue=3.040437823046519e-06)\n",
      "elec ACSF vs DHBE:  MannwhitneyuResult(statistic=74.0, pvalue=0.11236589497459061)\n",
      "DHBE elec vs opto:  MannwhitneyuResult(statistic=0.0, pvalue=0.015873015873015872)\n"
     ]
    }
   ],
   "source": [
    "printStats('V1')"
   ]
  },
  {
   "cell_type": "code",
   "execution_count": 27,
   "metadata": {
    "tags": []
   },
   "outputs": [
    {
     "data": {
      "image/png": "[encoded data removed]",
      "text/plain": [
       "<Figure size 510x360 with 1 Axes>"
      ]
     },
     "metadata": {},
     "output_type": "display_data"
    }
   ],
   "source": [
    "fig,ax = plt.subplots(figsize = [1.7, 1.2], dpi = 300)\n",
    "\n",
    "ax = sns.barplot(data = df[df['area'] == 'A1'], x = 'protocolOpto', y = 'amplitude', \n",
    "            order = ['acsf_1.0', 'dhbe_1.0','acsf_0.0', 'dhbe_0.0'], errorbar = ('ci', 68), hue = 'protocolOpto', \n",
    "            palette = ['0.6','RoyalBlue','1', 'Navy'], alpha = 0.5, capsize = 0.2, err_kws ={'linewidth':1}, linewidth=1)\n",
    "sns.stripplot(data = df[df['area'] == 'A1'], x = 'protocolOpto', y = 'amplitude', \n",
    "              order = ['acsf_0.0', 'dhbe_0.0', 'acsf_1.0', 'dhbe_1.0'], hue = 'protocolOpto', palette = ['0.5', 'RoyalBlue', '0.2','Navy'], dodge = False, size = 4, alpha = 0.3, legend = False)\n",
    "ax.patches[2].set_edgecolor('0.5')\n",
    "plt.xticks([0,1,2,3], ['ACSF', 'DHBE', 'ACSF', 'DHBE'])\n",
    "plt.xlabel(None)\n",
    "\n",
    "\n",
    "ax.set_yticks([0, 0.5, 1,1.5, 2])\n",
    "ax.set_yticklabels([0, 0.5, 1,1.5, 2], fontsize = 6)\n",
    "plt.ylabel('DA concentration (uM)', fontsize = 7)\n",
    "\n",
    "sns.despine(offset = 3)\n",
    "plt.tight_layout()\n",
    "plt.savefig('../figOutputs/fig2_A1_dhbe.pdf', dpi = 300, transparent = True)"
   ]
  },
  {
   "cell_type": "code",
   "execution_count": 28,
   "metadata": {},
   "outputs": [
    {
     "name": "stdout",
     "output_type": "stream",
     "text": [
      "ACSF - electrical\n",
      "N animals:  4\n",
      "N slices:  19\n",
      "mean:  0.4644122250684725\n",
      "sem:  0.09570384002530548\n",
      "\n",
      "ACSF - opto\n",
      "4\n",
      "19\n",
      "0.0254601260268844\n",
      "0.013110509975224414\n",
      "\n",
      "DHBE - electrical\n",
      "3\n",
      "6\n",
      "0.2422400791276512\n",
      "0.0649349154946777\n",
      "\n",
      "DHBE - opto\n",
      "2\n",
      "4\n",
      "0.021223156502179638\n",
      "0.004576736504808038\n",
      "\n",
      "opto ACSF vs DHBE:  MannwhitneyuResult(statistic=56.0, pvalue=0.5808394504046678)\n",
      "ACSF elec vs opto:  MannwhitneyuResult(statistic=0.0, pvalue=3.040437823046519e-06)\n",
      "elec ACSF vs DHBE:  MannwhitneyuResult(statistic=43.0, pvalue=0.7830792396009787)\n",
      "DHBE elec vs opto:  MannwhitneyuResult(statistic=0.0, pvalue=0.015873015873015872)\n"
     ]
    }
   ],
   "source": [
    "printStats('A1')"
   ]
  },
  {
   "cell_type": "code",
   "execution_count": null,
   "metadata": {},
   "outputs": [],
   "source": []
  },
  {
   "cell_type": "code",
   "execution_count": null,
   "metadata": {},
   "outputs": [],
   "source": []
  },
  {
   "cell_type": "code",
   "execution_count": null,
   "metadata": {},
   "outputs": [],
   "source": []
  },
  {
   "cell_type": "code",
   "execution_count": null,
   "metadata": {},
   "outputs": [],
   "source": []
  },
  {
   "cell_type": "code",
   "execution_count": null,
   "metadata": {},
   "outputs": [],
   "source": []
  }
 ],
 "metadata": {
  "kernelspec": {
   "display_name": "Python 3 (ipykernel)",
   "language": "python",
   "name": "python3"
  },
  "language_info": {
   "codemirror_mode": {
    "name": "ipython",
    "version": 3
   },
   "file_extension": ".py",
   "mimetype": "text/x-python",
   "name": "python",
   "nbconvert_exporter": "python",
   "pygments_lexer": "ipython3",
   "version": "3.11.5"
  }
 },
 "nbformat": 4,
 "nbformat_minor": 4
}
