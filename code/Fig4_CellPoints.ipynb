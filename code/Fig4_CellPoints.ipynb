{
 "cells": [
  {
   "cell_type": "code",
   "execution_count": 1,
   "id": "d414724b-d8b3-48a0-a2f0-adc2a4510e24",
   "metadata": {
    "tags": []
   },
   "outputs": [],
   "source": [
    "import pandas as pd\n",
    "import seaborn as sns\n",
    "import numpy as np\n",
    "import matplotlib.pyplot as plt\n",
    "import scipy.stats as ss\n",
    "import seaborn as sns\n",
    "import matplotlib.gridspec as gridspec"
   ]
  },
  {
   "cell_type": "code",
   "execution_count": 2,
   "id": "9db4c1b4-e808-4abd-91b7-e8611ecfd304",
   "metadata": {
    "tags": []
   },
   "outputs": [],
   "source": [
    "plt.rcParams[\"font.family\"] = \"arial\"\n",
    "plt.rcParams[\"font.size\"] = 6\n",
    "plt.rcParams['axes.linewidth'] = 0.5\n",
    "plt.rcParams['xtick.major.width'] = 0.25\n",
    "plt.rcParams['xtick.major.size'] = 2\n",
    "plt.rcParams['xtick.major.pad'] = 2\n",
    "\n",
    "plt.rcParams['ytick.major.width'] = 0.25\n",
    "plt.rcParams['ytick.major.size'] = 2\n",
    "plt.rcParams['ytick.major.pad'] = 2\n",
    "plt.rcParams['ytick.major.pad'] = 2\n",
    "\n",
    "plt.rcParams['axes.labelpad'] = 2"
   ]
  },
  {
   "cell_type": "code",
   "execution_count": 3,
   "id": "9fdfabdb-7e47-4174-9ef4-35cd2eaf09bc",
   "metadata": {
    "tags": []
   },
   "outputs": [],
   "source": [
    "cortex = pd.read_excel('../data/Fig4/Fig4_in.xlsx', sheet_name = 'cortex')\n",
    "\n",
    "perDMS = cortex[cortex['inj'] == 'DMS']\n",
    "perDLS = cortex[cortex['inj'] == 'DLS']"
   ]
  },
  {
   "cell_type": "code",
   "execution_count": 4,
   "id": "00fe490b-1b52-4793-9798-66768fc3a310",
   "metadata": {
    "tags": []
   },
   "outputs": [],
   "source": [
    "perDMS = perDMS.sort_values('area')\n",
    "perDLS = perDLS.sort_values('area')"
   ]
  },
  {
   "cell_type": "code",
   "execution_count": 5,
   "id": "81df4602-da67-4845-a2f6-d4768bdcccbd",
   "metadata": {
    "tags": []
   },
   "outputs": [],
   "source": [
    "perDMS = perDMS.sort_values('area')\n",
    "perDLS = perDLS.sort_values('area')"
   ]
  },
  {
   "cell_type": "code",
   "execution_count": 6,
   "id": "3e565d7f-1824-47be-9544-a0ab08278f14",
   "metadata": {
    "tags": []
   },
   "outputs": [
    {
     "data": {
      "image/png": "[encoded data removed]",
      "text/plain": [
       "<Figure size 250x220 with 2 Axes>"
      ]
     },
     "metadata": {},
     "output_type": "display_data"
    }
   ],
   "source": [
    "fig, ax = plt.subplots(2,1, figsize = (2.5,2.2), sharey = True)\n",
    "sns.barplot(ax = ax[0], data = perDMS, x = 'area', y = 'perCells', color = 'cornflowerblue', errorbar = ('se'), err_kws={'linewidth': 1.5}, alpha = 0.7)\n",
    "sns.barplot(ax = ax[1], data = perDLS, x = 'area', y = 'perCells', color = 'goldenrod', errorbar = ('se'), err_kws={'linewidth': 1.5}, alpha = 0.7)\n",
    "\n",
    "ax[0].tick_params(axis='x', labelrotation=90)\n",
    "ax[1].tick_params(axis='x', labelrotation=90)\n",
    "ax[0].set_xlabel(None)\n",
    "ax[0].set_ylabel('Cells (%)')\n",
    "ax[1].set_ylabel('Cells (%)')\n",
    "ax[1].set_xlabel('Cortical area')\n",
    "ax[0].set_yticks([0,25,50,75])\n",
    "\n",
    "sns.despine()\n",
    "plt.tight_layout()\n",
    "plt.savefig('../figOutputs/Fig4_cortexWide_area.pdf', dpi = 300, transparent = True, bbox_inches = 'tight')"
   ]
  },
  {
   "cell_type": "code",
   "execution_count": 7,
   "id": "d8e9e624-f6a5-4f0e-abc9-d9007d99f4bc",
   "metadata": {
    "tags": []
   },
   "outputs": [],
   "source": [
    "layers = pd.read_excel('../data/Fig4/Fig4_in.xlsx', sheet_name = 'cortex_layer')\n",
    "\n",
    "layDMS = layers[layers['inj'] == 'DMS']\n",
    "layDLS = layers[layers['inj'] == 'DLS']"
   ]
  },
  {
   "cell_type": "code",
   "execution_count": 8,
   "id": "d2dce1ea-e37f-4b21-bef1-7205a5d87e1f",
   "metadata": {
    "tags": []
   },
   "outputs": [
    {
     "name": "stderr",
     "output_type": "stream",
     "text": [
      "/var/folders/wn/0hmzg97j2q1dpzj2x0ljkp440000gv/T/ipykernel_97341/4031305391.py:10: UserWarning: FixedFormatter should only be used together with FixedLocator\n",
      "  ax[0].set_xticklabels(['I', \"II/III\", \"IV\", \"V\", \"VIa\", \"VIb\"])\n"
     ]
    },
    {
     "data": {
      "image/png": "[encoded data removed]",
      "text/plain": [
       "<Figure size 200x220 with 2 Axes>"
      ]
     },
     "metadata": {},
     "output_type": "display_data"
    }
   ],
   "source": [
    "fig, ax = plt.subplots(2,1, figsize = (2,2.2), sharey = True)\n",
    "sns.barplot(ax = ax[0], data = layDMS, x = 'layer', y = 'perCells', color = 'cornflowerblue', errorbar = ('se'), err_kws={'linewidth': 1.5}, alpha = 0.7)\n",
    "sns.barplot(ax = ax[1], data = layDLS, x = 'layer', y = 'perCells', color = 'goldenrod', errorbar = ('se'), err_kws={'linewidth': 1.5}, alpha = 0.7)\n",
    "plt.xticks(rotation = 90)\n",
    "ax[0].set_ylabel('Cells (%)')\n",
    "ax[1].set_ylabel('Cells (%)')\n",
    "ax[1].set_xlabel('Layer')\n",
    "ax[1].set_xticks([0,1,2,3,4,5])\n",
    "ax[1].set_xticklabels(['I', \"II/III\", \"IV\", \"V\", \"VIa\", \"VIb\"])\n",
    "ax[0].set_xticklabels(['I', \"II/III\", \"IV\", \"V\", \"VIa\", \"VIb\"])\n",
    "ax[0].set_yticks([0,25,50,75])\n",
    "\n",
    "\n",
    "ax[0].tick_params(axis='x', labelrotation=90)\n",
    "ax[1].tick_params(axis='x', labelrotation=90)\n",
    "ax[0].set_xlabel(None)\n",
    "\n",
    "sns.despine()\n",
    "plt.tight_layout()\n",
    "plt.savefig('../figOutputs/Fig4_cortexWide_byLayer.pdf', dpi = 300, transparent = True, bbox_inches = 'tight')"
   ]
  },
  {
   "cell_type": "code",
   "execution_count": 9,
   "id": "84920df5-3a6f-480b-ba3f-b26862aa4f1e",
   "metadata": {
    "tags": []
   },
   "outputs": [],
   "source": [
    "cPFC = pd.read_excel('../data/Fig4/Fig4_in.xlsx', sheet_name = 'pfc')\n",
    "lPFC = pd.read_excel('../data/Fig4/Fig4_in.xlsx', sheet_name = 'pfc_layer')"
   ]
  },
  {
   "cell_type": "code",
   "execution_count": 10,
   "id": "88079064-2020-43c3-bafe-e4b22f928cbe",
   "metadata": {
    "tags": []
   },
   "outputs": [],
   "source": [
    "cPFC = cPFC.sort_values('area')"
   ]
  },
  {
   "cell_type": "code",
   "execution_count": 11,
   "id": "4196495e-f1fc-4e58-acef-948665c78947",
   "metadata": {
    "tags": []
   },
   "outputs": [
    {
     "data": {
      "image/png": "[encoded data removed]",
      "text/plain": [
       "<Figure size 400x120 with 2 Axes>"
      ]
     },
     "metadata": {},
     "output_type": "display_data"
    }
   ],
   "source": [
    "fig = plt.figure(figsize = (4,1.2))\n",
    "gs0 = gridspec.GridSpec(1, 2, figure=fig, wspace = 0.1, width_ratios = [2,1])\n",
    "ax1 = fig.add_subplot(gs0[0])\n",
    "ax2 = fig.add_subplot(gs0[1])\n",
    "\n",
    "sns.barplot(ax = ax1, data = cPFC, x = 'area', y = 'perCells', hue = 'inj', hue_order = ['DMS', 'DLS'], palette = ['cornflowerblue', 'goldenrod'], err_kws={'linewidth': 1.5}, errorbar = ('se'), alpha = 0.7)\n",
    "sns.barplot(ax = ax2, data = lPFC, x = 'layer', y = 'perCells', hue = 'inj', hue_order = ['DMS', 'DLS'], palette = ['cornflowerblue','goldenrod'], err_kws={'linewidth': 1.5}, errorbar = ('se'),legend = False, alpha = 0.7)\n",
    "\n",
    "ax1.set_xticks(ax1.get_xticks())\n",
    "ax1.set_xticklabels(ax1.get_xticklabels(), rotation = 90)\n",
    "ax1.set_ylabel('Cells (%)')\n",
    "ax1.set_xlabel('Cortical area')\n",
    "ax2.set_xlabel('Layer')\n",
    "ax2.set_xticks([0,1,2,3,4,5])\n",
    "ax2.set_xticklabels(['I', \"II/III\", \"IV\", \"V\", \"VIa\", \"VIb\"])\n",
    "ax1.set_ylim(0,100)\n",
    "ax2.set_ylim(0,100)\n",
    "ax2.set_ylabel(None)\n",
    "ax1.set_yticks([0,25,50,75,100])\n",
    "ax2.set_yticks([0,25,50,75,100])\n",
    "ax2.set_yticklabels(['','','', '', ''])\n",
    "ax1.legend(frameon = False)\n",
    "\n",
    "sns.despine()\n",
    "\n",
    "plt.savefig('../figOutputs/Fig4_PFC.pdf', dpi = 300, transparent = True, bbox_inches = 'tight')"
   ]
  },
  {
   "cell_type": "code",
   "execution_count": 12,
   "id": "b859b5ab-2e22-48e6-a4ab-df74fe91f6f2",
   "metadata": {
    "tags": []
   },
   "outputs": [],
   "source": [
    "cSSp = pd.read_excel('../data/Fig4/Fig4_in.xlsx', sheet_name = 'ssensory')\n",
    "lSSp = pd.read_excel('../data/Fig4/Fig4_in.xlsx', sheet_name = 'ssensory_layer')\n",
    "\n",
    "cSSp = cSSp.sort_values('area')"
   ]
  },
  {
   "cell_type": "code",
   "execution_count": 13,
   "id": "876b5e7d-c606-4a3c-9860-b7d4fa6e00e3",
   "metadata": {
    "tags": []
   },
   "outputs": [
    {
     "data": {
      "image/png": "[encoded data removed]",
      "text/plain": [
       "<Figure size 400x120 with 2 Axes>"
      ]
     },
     "metadata": {},
     "output_type": "display_data"
    }
   ],
   "source": [
    "fig = plt.figure(figsize = (4,1.2))\n",
    "gs0 = gridspec.GridSpec(1, 2, figure=fig, wspace = 0.1, width_ratios = [2,1])\n",
    "ax1 = fig.add_subplot(gs0[0])\n",
    "ax2 = fig.add_subplot(gs0[1])\n",
    "\n",
    "\n",
    "sns.barplot(ax = ax1, data = cSSp, x = 'area', y = 'perCells', hue = 'inj', hue_order = ['DMS', 'DLS'], palette = [ 'cornflowerblue', 'goldenrod'], err_kws={'linewidth': 1.5}, errorbar = ('se'), alpha = 0.7)\n",
    "sns.barplot(ax = ax2, data = lSSp, x = 'layer', y = 'perCells', hue = 'inj', hue_order = ['DMS', 'DLS'], legend = False, palette = ['cornflowerblue', 'goldenrod'], err_kws={'linewidth': 1.5}, errorbar = ('se'), alpha = 0.7)\n",
    "\n",
    "ax1.set_xticks(ax1.get_xticks())\n",
    "ax1.set_xticklabels(ax1.get_xticklabels(), rotation = 90)\n",
    "ax1.set_ylabel('Cells (%)')\n",
    "ax1.set_xlabel('Cortical area')\n",
    "ax2.set_xlabel('Layer')\n",
    "ax2.set_xticks([0,1,2,3,4,5])\n",
    "ax2.set_xticklabels(['I', \"II/III\", \"IV\", \"V\", \"VIa\", \"VIb\"])\n",
    "ax1.set_ylim(0,30)\n",
    "ax2.set_ylim(0,30)\n",
    "ax2.set_ylabel(None)\n",
    "ax1.set_yticks([0,10,20,30])\n",
    "ax2.set_yticks([0,10,20,30])\n",
    "ax2.set_yticklabels([\"\",\"\",'',''])\n",
    "ax1.legend(frameon = False)\n",
    "\n",
    "sns.despine()\n",
    "\n",
    "plt.savefig('../figOutputs/Fig4_SSP.pdf', dpi = 300, transparent = True, bbox_inches = 'tight')"
   ]
  },
  {
   "cell_type": "code",
   "execution_count": 14,
   "id": "f25c51b5-e100-4a1d-9b81-206c70f9d83e",
   "metadata": {
    "tags": []
   },
   "outputs": [],
   "source": [
    "cVIS = pd.read_excel('../data/Fig4/Fig4_in.xlsx', sheet_name = 'visaud')\n",
    "lVIS = pd.read_excel('../data/Fig4/Fig4_in.xlsx', sheet_name = 'visaud_layer')\n",
    "\n",
    "cVIS = cVIS.sort_values('area')"
   ]
  },
  {
   "cell_type": "code",
   "execution_count": 15,
   "id": "23746c96-6093-4665-b98f-304ce91544d9",
   "metadata": {
    "tags": []
   },
   "outputs": [
    {
     "data": {
      "image/png": "[encoded data removed]",
      "text/plain": [
       "<Figure size 400x120 with 2 Axes>"
      ]
     },
     "metadata": {},
     "output_type": "display_data"
    }
   ],
   "source": [
    "fig = plt.figure(figsize = (4,1.2))\n",
    "gs0 = gridspec.GridSpec(1, 2, figure=fig, wspace = 0.1, width_ratios = [2,1])\n",
    "ax1 = fig.add_subplot(gs0[0])\n",
    "ax2 = fig.add_subplot(gs0[1])\n",
    "\n",
    "sns.barplot(ax = ax1, data = cVIS, x = 'area', y = 'perCells',  hue = 'inj', hue_order = ['DMS', 'DLS'], palette = ['cornflowerblue', 'goldenrod'], err_kws={'linewidth': 1.5}, errorbar = ('se'), alpha = 0.7)\n",
    "sns.barplot(ax = ax2, data = lVIS, x = 'layer', y = 'perCells',  hue = 'inj', hue_order = ['DMS', 'DLS'], legend = False, palette = ['cornflowerblue', 'goldenrod'], err_kws={'linewidth': 1.5}, errorbar = ('se'), alpha = 0.7)\n",
    "\n",
    "ax1.set_xticks(ax1.get_xticks())\n",
    "ax1.set_xticklabels(ax1.get_xticklabels(), rotation = 90)\n",
    "ax1.set_ylabel('Cells (%)')\n",
    "ax1.set_xlabel('Cortical area')\n",
    "ax2.set_xlabel('Layer')\n",
    "ax2.set_xticks([0,1,2,3,4,5])\n",
    "ax2.set_xticklabels(['I', \"II/III\", \"IV\", \"V\", \"VIa\", \"VIb\"])\n",
    "ax1.set_ylim(0,3)\n",
    "ax2.set_ylim(0,3)\n",
    "ax2.set_ylabel(None)\n",
    "ax1.set_yticks([0,1,2,3])\n",
    "ax2.set_yticks([0,1,2,3])\n",
    "ax2.set_yticklabels(['','','',''])\n",
    "ax1.legend(frameon = False)\n",
    "\n",
    "sns.despine()\n",
    "\n",
    "plt.savefig('../figOutputs/Fig4_VisAud.pdf', dpi = 300, transparent = True, bbox_inches = 'tight')"
   ]
  },
  {
   "cell_type": "code",
   "execution_count": null,
   "id": "41ff1b2c-4413-43f4-865a-8f7131bba7a0",
   "metadata": {},
   "outputs": [],
   "source": []
  },
  {
   "cell_type": "code",
   "execution_count": null,
   "id": "c5ce9e4e-b781-44b0-b4b7-fe3af8cc24d7",
   "metadata": {},
   "outputs": [],
   "source": []
  },
  {
   "cell_type": "code",
   "execution_count": null,
   "id": "f34e4027-b5d2-419f-adf8-29489d70c0fc",
   "metadata": {},
   "outputs": [],
   "source": []
  },
  {
   "cell_type": "code",
   "execution_count": null,
   "id": "8909cb92-1fb7-40ee-801c-183fa16fa0c7",
   "metadata": {},
   "outputs": [],
   "source": []
  },
  {
   "cell_type": "code",
   "execution_count": null,
   "id": "6f9342e9-184e-4395-9455-16a574c3074d",
   "metadata": {},
   "outputs": [],
   "source": []
  },
  {
   "cell_type": "code",
   "execution_count": null,
   "id": "61712fc4-21e5-4680-a254-37fa2ea79403",
   "metadata": {},
   "outputs": [],
   "source": []
  },
  {
   "cell_type": "code",
   "execution_count": null,
   "id": "59e2ec5f-49eb-4315-9118-e84f81625178",
   "metadata": {},
   "outputs": [],
   "source": []
  }
 ],
 "metadata": {
  "kernelspec": {
   "display_name": "Python 3 (ipykernel)",
   "language": "python",
   "name": "python3"
  },
  "language_info": {
   "codemirror_mode": {
    "name": "ipython",
    "version": 3
   },
   "file_extension": ".py",
   "mimetype": "text/x-python",
   "name": "python",
   "nbconvert_exporter": "python",
   "pygments_lexer": "ipython3",
   "version": "3.11.5"
  }
 },
 "nbformat": 4,
 "nbformat_minor": 5
}
